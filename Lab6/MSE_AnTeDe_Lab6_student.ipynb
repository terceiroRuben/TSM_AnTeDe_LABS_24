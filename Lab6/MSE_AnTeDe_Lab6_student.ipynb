{
 "cells": [
  {
   "cell_type": "markdown",
   "id": "solid-evening",
   "metadata": {},
   "source": [
    "![MSE Logo](https://moodle.msengineering.ch/pluginfile.php/1/core_admin/logo/0x150/1643104191/logo-mse.png)\n",
    "\n",
    "# AnTeDe Lab 6: Applications of word2vec\n",
    "## Objective\n",
    "* Compare pre-trained word2vec models with models trained on your workstation, on word similarity and analogy tasks.\t\n",
    "\n",
    "## General instructions\n",
    "* You can do the lab alone or in groups of two students.\n",
    "* Please write the required code, but also reply explicitly to the questions, as Python comments in code cells or text in markdown cells. \n",
    "* To submit your practical work, please make sure all cells are executed, then save and zip the notebook, and submit it as homework on [Moodle](https://moodle.msengineering.ch/course/view.php?id=1869).\n",
    "* Useful documentation: [section on word2vec in Gensim](https://radimrehurek.com/gensim/models/word2vec.html) as well as the [section on KeyedVectors in Gensim](https://radimrehurek.com/gensim/models/keyedvectors.html).\n",
    "* Training can be done locally if you have at least 16 GB of memory (it takes minutes, not hours), or using [Google Colab](https://colab.research.google.com/)."
   ]
  },
  {
   "cell_type": "markdown",
   "id": "incorrect-feedback",
   "metadata": {},
   "source": [
    "## 1. Testing a word2vec model trained on Google News\n",
    "a. Install Gensim the latest version of Gensim, for instance by running in your Conda environment `pip install --upgrade gensim`. "
   ]
  },
  {
   "cell_type": "code",
   "execution_count": 1,
   "id": "concerned-richardson",
   "metadata": {
    "ExecuteTime": {
     "end_time": "2024-04-05T18:55:19.123425600Z",
     "start_time": "2024-04-05T18:55:16.825406300Z"
    }
   },
   "outputs": [
    {
     "name": "stdout",
     "output_type": "stream",
     "text": [
      "Name: gensim\n",
      "Version: 4.3.2\n",
      "Summary: Python framework for fast Vector Space Modelling\n",
      "Home-page: https://radimrehurek.com/gensim/\n",
      "Author: Radim Rehurek\n",
      "Author-email: me@radimrehurek.com\n",
      "License: LGPL-2.1-only\n",
      "Location: C:\\Users\\Ruben\\anaconda3\\envs\\TSM_AnTeDe\\Lib\\site-packages\n",
      "Requires: numpy, scipy, smart-open\n",
      "Required-by: \n"
     ]
    }
   ],
   "source": [
    "# If you want to install from here, run the command ('!' indicates a command for the shell)\n",
    "# !pip install --upgrade gensim\n",
    "\n",
    "# Please run the following verification:\n",
    "!pip show gensim"
   ]
  },
  {
   "cell_type": "markdown",
   "source": [],
   "metadata": {
    "collapsed": false
   },
   "id": "d4f2c696c9e3d27f"
  },
  {
   "cell_type": "code",
   "execution_count": 2,
   "id": "revolutionary-mobile",
   "metadata": {
    "ExecuteTime": {
     "end_time": "2024-04-05T18:55:20.832330400Z",
     "start_time": "2024-04-05T18:55:19.121425900Z"
    }
   },
   "outputs": [],
   "source": [
    "import gensim, os\n",
    "from gensim import downloader\n",
    "# help(gensim.models.word2vec) # check if you are curious, but don't include output in the final notebook"
   ]
  },
  {
   "cell_type": "code",
   "execution_count": 3,
   "id": "opposed-thirty",
   "metadata": {
    "ExecuteTime": {
     "end_time": "2024-04-05T18:55:20.837145400Z",
     "start_time": "2024-04-05T18:55:20.833331400Z"
    }
   },
   "outputs": [],
   "source": [
    "# Download the model file from Gensim, for the first time only\n",
    "# gensim.downloader.load(\"word2vec-google-news-300\")\n",
    "# We can assign the returned value to a model, but it is twice larger than needed."
   ]
  },
  {
   "cell_type": "markdown",
   "id": "structural-rescue",
   "metadata": {},
   "source": [
    "b. Where is the model stored on your computer?  What is the size of the file?  Please store the absolute path in a variable called `path_to_model_file`, and use `os.path.getsize` to display the size converted in gigabytes with two decimals."
   ]
  },
  {
   "cell_type": "code",
   "execution_count": 4,
   "id": "rural-burns",
   "metadata": {
    "ExecuteTime": {
     "end_time": "2024-04-05T18:55:20.842652600Z",
     "start_time": "2024-04-05T18:55:20.838143Z"
    }
   },
   "outputs": [
    {
     "name": "stdout",
     "output_type": "stream",
     "text": [
      "Size of the model file: 1.62 GB\n"
     ]
    }
   ],
   "source": [
    "# Please write your Python code below and execute it.\n",
    "\n",
    "path_to_model_file = \"./gensim-data/word2vec-google-news-300/word2vec-google-news-300.gz\"\n",
    "# The model is stored in the 'gensim-data' directory, in a file called 'word2vec-google-news-300.gz'.\n",
    "\n",
    "# Get the size of the model file\n",
    "\n",
    "model_size = os.path.getsize(path_to_model_file) / (1024 * 1024 * 1024)  # Co\n",
    "\n",
    "print(f\"Size of the model file: {model_size:.2f} GB\")"
   ]
  },
  {
   "cell_type": "code",
   "execution_count": 5,
   "id": "designed-cooling",
   "metadata": {
    "ExecuteTime": {
     "end_time": "2024-04-05T18:55:55.165987500Z",
     "start_time": "2024-04-05T18:55:20.842652600Z"
    }
   },
   "outputs": [],
   "source": [
    "# Load the model into the notebook:\n",
    "from gensim.models import KeyedVectors\n",
    "wv_model = gensim.models.KeyedVectors.load_word2vec_format(path_to_model_file, binary=True)  # C bin format"
   ]
  },
  {
   "cell_type": "markdown",
   "id": "transsexual-mistress",
   "metadata": {},
   "source": [
    "c. What is the memory size of the process corresponding to this notebook?  Please simply write the value you obtain from any OS-specific utility that you wish to use for this purpose."
   ]
  },
  {
   "cell_type": "code",
   "execution_count": 6,
   "id": "recent-paper",
   "metadata": {
    "ExecuteTime": {
     "end_time": "2024-04-05T18:55:55.380755900Z",
     "start_time": "2024-04-05T18:55:55.170988500Z"
    }
   },
   "outputs": [
    {
     "name": "stdout",
     "output_type": "stream",
     "text": [
      "Memory usage: 913.171875 MB\n"
     ]
    }
   ],
   "source": [
    "# Please write your size below.\n",
    "import os\n",
    "import psutil\n",
    "\n",
    "process = psutil.Process(os.getpid())\n",
    "memory_info = process.memory_info()\n",
    "print(f\"Memory usage: {memory_info.rss / (1024 * 1024)} MB\")"
   ]
  },
  {
   "cell_type": "markdown",
   "id": "lightweight-constraint",
   "metadata": {},
   "source": [
    "d. What is the size of the vocabulary of this model?  (I.e., how many words does it know?)"
   ]
  },
  {
   "cell_type": "code",
   "execution_count": 7,
   "id": "cleared-organizer",
   "metadata": {
    "ExecuteTime": {
     "end_time": "2024-04-05T18:55:55.387755Z",
     "start_time": "2024-04-05T18:55:55.188555700Z"
    }
   },
   "outputs": [
    {
     "name": "stdout",
     "output_type": "stream",
     "text": [
      "Vocabulary size: 3000000\n"
     ]
    }
   ],
   "source": [
    "# Please write the Python code needed to display the vocabulary size and execute it.\n",
    "print(f\"Vocabulary size: {len(wv_model.key_to_index)}\")"
   ]
  },
  {
   "cell_type": "markdown",
   "id": "stuck-wrong",
   "metadata": {},
   "source": [
    "e. Compare the vocabulary size with the number of words in an English dictionary.  How do you explain the difference?  Illustrate your explanation by showing at least 5 words which are in the model's vocabulary, and 2 that are not."
   ]
  },
  {
   "cell_type": "code",
   "execution_count": 8,
   "id": "forty-crossing",
   "metadata": {
    "ExecuteTime": {
     "end_time": "2024-04-05T18:55:56.594028Z",
     "start_time": "2024-04-05T18:55:55.434755100Z"
    }
   },
   "outputs": [
    {
     "name": "stdout",
     "output_type": "stream",
     "text": [
      "NUMBER OF WORDS IN AN ENGLISH DICTIONARY: 171476\n",
      "The vocabulary size of the model is 3000000, which is much larger than the number of words in an English dictionary. This is because the model is trained on a large corpus of text, which includes many different words, including proper nouns, acronyms, and other specialized terms. The model is designed to capture the meaning of words in context, so it needs to be able to represent a wide range of vocabulary.\n",
      "5 Random words in the model's vocabulary: ['espresso_martinis', 'wherefore', 'HARD', 'courtly_manners', \"Hawai'ian\"]\n",
      "\n",
      "Ruben_Yannis is not in the model's vocabulary\n",
      "Yannis_Ruben is not in the model's vocabulary\n"
     ]
    }
   ],
   "source": [
    "# Please write your Python code below and execute it.\n",
    "\n",
    "#Compare the vocabulary size with the number of words in an English dictionary.  How do you explain the difference?  Illustrate your explanation by showing at least 5 words which are in the model's vocabulary, and 2 that are not.\"\"\"\n",
    "\n",
    "print(\"NUMBER OF WORDS IN AN ENGLISH DICTIONARY: 171476\")\n",
    "# SOURCE https://wordcounter.io/blog/how-many-words-are-in-the-english-language#:~:text=The%20English%20Dictionary&text=The%20Second%20Edition%20of%20the,Section%2C%20includes%20some%20470%2C000%20entries.\n",
    "\n",
    "print(\"The vocabulary size of the model is 3000000, which is much larger than the number of words in an English dictionary. This is because the model is trained on a large corpus of text, which includes many different words, including proper nouns, acronyms, and other specialized terms. The model is designed to capture the meaning of words in context, so it needs to be able to represent a wide range of vocabulary.\")\n",
    "\n",
    "# Words in the model's vocabulary:\n",
    "import random\n",
    "random.seed(42)\n",
    "words_in_vocab = random.sample(list(wv_model.key_to_index.keys()), 5)\n",
    "\n",
    "print(f\"5 Random words in the model's vocabulary: {words_in_vocab}\\n\")\n",
    "\n",
    "# Now give me code which check ia word is in the vocalbulary or not\n",
    "words_not_in_vocab = ['Ruben_Yannis', 'Yannis_Ruben']\n",
    "for word in words_not_in_vocab:\n",
    "    if word in wv_model.key_to_index:\n",
    "        print(f\"{word} is in the model's vocabulary\")\n",
    "    else:\n",
    "        print(f\"{word} is not in the model's vocabulary\")"
   ]
  },
  {
   "cell_type": "markdown",
   "id": "celtic-energy",
   "metadata": {},
   "source": [
    "f. Determine the size of the vector space for this word2vec model, i.e. the dimensionality of the embedding space, using two methods: either using the vector of a word from the vocabulary, or directly using the shape of the model."
   ]
  },
  {
   "cell_type": "code",
   "execution_count": 9,
   "id": "ahead-newport",
   "metadata": {
    "ExecuteTime": {
     "end_time": "2024-04-05T18:55:56.600029900Z",
     "start_time": "2024-04-05T18:55:55.554598600Z"
    }
   },
   "outputs": [
    {
     "name": "stdout",
     "output_type": "stream",
     "text": [
      "(3000000, 300)\n",
      "Vector size using method 1: 300\n",
      "Vector size using method 2: 300\n"
     ]
    }
   ],
   "source": [
    "# Please write your Python code below and execute it.\n",
    "\n",
    "# Method 1: Using the vector of a word from the vocabulary\n",
    "vector_size_1 = len(wv_model['wherefore'])\n",
    "\n",
    "# Method 2: Using the shape of the model\n",
    "print(wv_model.vectors.shape)\n",
    "#The shape of the model's vectors, which is (3000000, 300), meaning that there are 3,000,000 vectors in the model, each of which has a dimensionality of 300.\n",
    "vector_size_2 = wv_model.vectors.shape[1]\n",
    "\n",
    "print(f\"Vector size using method 1: {vector_size_1}\")\n",
    "print(f\"Vector size using method 2: {vector_size_2}\")"
   ]
  },
  {
   "cell_type": "markdown",
   "id": "whole-roommate",
   "metadata": {},
   "source": [
    "## 2. Using word2vec trained on Google News for word similarity\n",
    "In this section, you are going to use word vectors to compute (cosine) similarity between words (use the [KeyedVectors](https://radimrehurek.com/gensim/models/keyedvectors.html) documentation).  You will experiment with three tasks: (a) rank a small number of word pairs by decreasing similarity; (b) test the model on the WordSimilarity-353 set; (c) test the model on the analogy task."
   ]
  },
  {
   "cell_type": "markdown",
   "id": "extraordinary-conspiracy",
   "metadata": {},
   "source": [
    "a. Sort the word pairs given below by decreasing similarity (i.e. most similar first).  Display also the similarity value found by word2vec, with 2 decimals."
   ]
  },
  {
   "cell_type": "code",
   "execution_count": 10,
   "id": "caring-relationship",
   "metadata": {
    "ExecuteTime": {
     "end_time": "2024-04-05T18:55:56.675029300Z",
     "start_time": "2024-04-05T18:55:55.578499400Z"
    }
   },
   "outputs": [
    {
     "name": "stdout",
     "output_type": "stream",
     "text": [
      "('bike', 'bicycle'): 0.85\n",
      "('oil', 'gas'): 0.71\n",
      "('car', 'bike'): 0.59\n",
      "('car', 'automobile'): 0.58\n",
      "('car', 'bus'): 0.47\n",
      "('bike', 'pedal'): 0.47\n",
      "('car', 'pedal'): 0.29\n",
      "('car', 'oil'): 0.15\n"
     ]
    }
   ],
   "source": [
    "test_pairs = [('car','automobile'), ('car', 'bike'), ('car', 'oil'), ('car', 'pedal'),  ('bike', 'pedal'), ('bike', 'bicycle'), ('oil', 'gas'), ('car', 'bus')]\n",
    "\n",
    "# Please write your Python code below and execute it.\n",
    "sorted_pairs = sorted([(pair, wv_model.similarity(pair[0], pair[1])) for pair in test_pairs], key=lambda x: x[1], reverse=True)\n",
    "\n",
    "for pair, similarity in sorted_pairs:\n",
    "    print(f\"{pair}: {similarity:.2f}\")\n"
   ]
  },
  {
   "cell_type": "markdown",
   "id": "impossible-incentive",
   "metadata": {},
   "source": [
    "b. What are the five closest words to *car* in the whole vocabulary and their similarity values with *car*? "
   ]
  },
  {
   "cell_type": "code",
   "execution_count": 11,
   "id": "baking-shock",
   "metadata": {
    "ExecuteTime": {
     "end_time": "2024-04-05T18:56:56.681246200Z",
     "start_time": "2024-04-05T18:55:55.619159600Z"
    }
   },
   "outputs": [
    {
     "name": "stderr",
     "output_type": "stream",
     "text": [
      "C:\\Users\\Ruben\\AppData\\Local\\Temp\\ipykernel_3432\\3637424830.py:1: DeprecationWarning: Call to deprecated `init_sims` (Use fill_norms() instead. See https://github.com/RaRe-Technologies/gensim/wiki/Migrating-from-Gensim-3.x-to-4).\n",
      "  wv_model.init_sims(replace=True) # run this to avoid memory footprint doubling with the first call\n"
     ]
    },
    {
     "name": "stdout",
     "output_type": "stream",
     "text": [
      "vehicle: 0.78\n",
      "cars: 0.74\n",
      "SUV: 0.72\n",
      "minivan: 0.69\n",
      "truck: 0.67\n"
     ]
    }
   ],
   "source": [
    "wv_model.init_sims(replace=True) # run this to avoid memory footprint doubling with the first call \n",
    "# of \"most_similar\" (which caches unit vectors without replacement, unless told explicitly to do so).\n",
    "# Will have the same effect on evaluate_word_analogies below.\n",
    "\n",
    "# Please write your Python code below and execute it.\n",
    "car_similarities = wv_model.most_similar('car', topn=5)\n",
    "for word, similarity in car_similarities:\n",
    "    print(f\"{word}: {similarity:.2f}\")"
   ]
  },
  {
   "cell_type": "markdown",
   "id": "requested-manner",
   "metadata": {},
   "source": [
    "c. Using the [KeyedVectors](https://radimrehurek.com/gensim/models/keyedvectors.html) documentation, evaluate the model on the WordSimilarity-353 task.  This compares similarities assigned to word pairs by word2vec with those assigned by humans.  Please display only the Pearson Correlation Coefficient, with two decimals. "
   ]
  },
  {
   "cell_type": "code",
   "execution_count": 12,
   "id": "metallic-salmon",
   "metadata": {
    "ExecuteTime": {
     "end_time": "2024-04-05T18:56:58.161888500Z",
     "start_time": "2024-04-05T18:56:56.457245300Z"
    }
   },
   "outputs": [
    {
     "name": "stdout",
     "output_type": "stream",
     "text": [
      "Pearson Correlation Coefficient: 0.62\n"
     ]
    }
   ],
   "source": [
    "# Please write your Python code below and execute it.\n",
    "from gensim.test.utils import datapath\n",
    "\n",
    "# Load evaluation dataset of word similarities\n",
    "word_similarity_dataset = datapath('wordsim353.tsv')\n",
    "\n",
    "# Evaluate the model on the WordSimilarity-353 task\n",
    "pearson_correlation = wv_model.evaluate_word_pairs(word_similarity_dataset)[0][0]\n",
    "\n",
    "# Display the Pearson Correlation Coefficient with two decimals\n",
    "print(f\"Pearson Correlation Coefficient: {pearson_correlation:.2f}\")"
   ]
  },
  {
   "cell_type": "markdown",
   "id": "accessible-clone",
   "metadata": {},
   "source": [
    "d. Using the [KeyedVectors](https://radimrehurek.com/gensim/models/keyedvectors.html) documentation, evaluate the model on the Analogy Tasks (e.g., \"*What is to Thailand what Athens is to Greece?*\"). The task is specified in a data file called `questions-words.txt`.  Note: this takes around 5 minutes.  Store the output in a variable for future use."
   ]
  },
  {
   "cell_type": "code",
   "execution_count": 13,
   "id": "3d95fd14690b1991",
   "metadata": {
    "collapsed": false,
    "ExecuteTime": {
     "end_time": "2024-04-05T19:06:53.995721300Z",
     "start_time": "2024-04-05T18:56:57.290176800Z"
    }
   },
   "outputs": [],
   "source": [
    "# Please write your Python code below and execute it.\n",
    "analogy_scores = wv_model.evaluate_word_analogies(datapath('questions-words.txt'))"
   ]
  },
  {
   "cell_type": "code",
   "outputs": [],
   "source": [
    "# Store the output in a variable for future use in case jupyter crashes\n",
    "import pickle\n",
    "\n",
    "with open('analogy_scores.pkl', 'wb') as f:\n",
    "    pickle.dump(analogy_scores, f)"
   ],
   "metadata": {
    "ExecuteTime": {
     "end_time": "2024-04-05T19:06:54.049819900Z",
     "start_time": "2024-04-05T19:06:53.978721200Z"
    }
   },
   "id": "animated-faculty",
   "execution_count": 14
  },
  {
   "cell_type": "code",
   "outputs": [],
   "source": [
    "import pickle\n",
    "\n",
    "# Load the output from the variable\n",
    "with open('analogy_scores.pkl', 'rb') as f:\n",
    "    analogy_scores = pickle.load(f)"
   ],
   "metadata": {
    "collapsed": false,
    "ExecuteTime": {
     "end_time": "2024-04-05T19:06:54.261770700Z",
     "start_time": "2024-04-05T19:06:54.020818400Z"
    }
   },
   "id": "22cca2f10627e345",
   "execution_count": 15
  },
  {
   "cell_type": "code",
   "outputs": [
    {
     "name": "stdout",
     "output_type": "stream",
     "text": [
      "[('Bangkok', 0.6855700016021729), ('Bangkok_Thailand', 0.5587929487228394), ('Thai', 0.5496402978897095)]\n",
      "\n",
      " Bangkok is to Thailand what Athens is to Greece\n"
     ]
    }
   ],
   "source": [
    "result = wv_model.most_similar(positive=['Thailand', 'Athens'], negative=['Greece'], topn=3)\n",
    "\n",
    "print(result)\n",
    "\n",
    "print(f\"\\n {result[0][0]} is to Thailand what Athens is to Greece\")"
   ],
   "metadata": {
    "collapsed": false,
    "ExecuteTime": {
     "end_time": "2024-04-05T19:07:16.255096900Z",
     "start_time": "2024-04-05T19:06:54.073240700Z"
    }
   },
   "id": "c21e10459079ad4",
   "execution_count": 16
  },
  {
   "cell_type": "markdown",
   "id": "raising-harrison",
   "metadata": {},
   "source": [
    "e. Using the output above, please display the accuracy (number of correctly solved analogies), and then pick four categories of your choice, and display for each of them the accuracy, a correctly-solved analogy, and an incorrectly-solved one.  How many analogy tasks are there in total?"
   ]
  },
  {
   "cell_type": "code",
   "outputs": [
    {
     "name": "stdout",
     "output_type": "stream",
     "text": [
      "capital-common-countries: 83.20%\n",
      "capital-world: 81.32%\n",
      "currency: 28.47%\n",
      "city-in-state: 72.11%\n",
      "family: 86.17%\n",
      "gram1-adjective-to-adverb: 29.23%\n",
      "gram2-opposite: 43.47%\n",
      "gram3-comparative: 91.29%\n",
      "gram4-superlative: 87.97%\n",
      "gram5-present-participle: 78.50%\n",
      "gram6-nationality-adjective: 90.18%\n",
      "gram7-past-tense: 65.38%\n",
      "gram8-plural: 87.01%\n",
      "gram9-plural-verbs: 68.16%\n",
      "Total accuracy: 74.01%\n"
     ]
    }
   ],
   "source": [
    "# accuracy for each category and for total \n",
    "for section in analogy_scores[1]:\n",
    "    print(f\"{section['section']}: {len(section['correct'])/(len(section['correct']) + len(section['incorrect'])) * 100:.2f}%\")"
   ],
   "metadata": {
    "collapsed": false,
    "ExecuteTime": {
     "end_time": "2024-04-05T19:07:16.263711600Z",
     "start_time": "2024-04-05T19:07:16.238024200Z"
    }
   },
   "id": "b7ce4e7cb048d9fd",
   "execution_count": 17
  },
  {
   "cell_type": "code",
   "outputs": [
    {
     "name": "stdout",
     "output_type": "stream",
     "text": [
      "Category: gram3-comparative\n",
      "Accuracy: 91.29%\n",
      "Correct analogy: ('BAD', 'WORSE', 'BIG', 'BIGGER')\n",
      "Incorrect analogy: ('BAD', 'WORSE', 'COOL', 'COOLER')\n",
      "\n",
      "\n",
      "Category: gram6-nationality-adjective\n",
      "Accuracy: 90.18%\n",
      "Correct analogy: ('ALBANIA', 'ALBANIAN', 'AUSTRALIA', 'AUSTRALIAN')\n",
      "Incorrect analogy: ('ALBANIA', 'ALBANIAN', 'ARGENTINA', 'ARGENTINEAN')\n",
      "\n",
      "\n",
      "Category: gram4-superlative\n",
      "Accuracy: 87.97%\n",
      "Correct analogy: ('BAD', 'WORST', 'BIG', 'BIGGEST')\n",
      "Incorrect analogy: ('BAD', 'WORST', 'OLD', 'OLDEST')\n",
      "\n",
      "\n",
      "Category: currency\n",
      "Accuracy: 28.47%\n",
      "Correct analogy: ('ALGERIA', 'DINAR', 'ARGENTINA', 'PESO')\n",
      "Incorrect analogy: ('ALGERIA', 'DINAR', 'ANGOLA', 'KWANZA')\n",
      "\n"
     ]
    }
   ],
   "source": [
    "# for this example we'll keep the top 3 categories and the worst one\n",
    "\n",
    "picked_categories = [\"gram3-comparative\", \"gram6-nationality-adjective\",\"gram4-superlative\",\"currency\"]\n",
    "\n",
    "for category in picked_categories:\n",
    "    for section in analogy_scores[1]:\n",
    "        if section['section'] == category:\n",
    "            accuracy = len(section['correct']) / (len(section['correct']) + len(section['incorrect']))\n",
    "            correct = section['correct'][0]\n",
    "            incorrect = section['incorrect'][0]\n",
    "            print(f\"Category: {category}\")\n",
    "            print(f\"Accuracy: {accuracy:.2%}\")\n",
    "            print(f\"Correct analogy: {correct}\")\n",
    "            print(f\"Incorrect analogy: {incorrect}\")\n",
    "            print(\"\\n\")\n",
    "            break"
   ],
   "metadata": {
    "collapsed": false,
    "ExecuteTime": {
     "end_time": "2024-04-05T19:07:16.334610100Z",
     "start_time": "2024-04-05T19:07:16.255096900Z"
    }
   },
   "id": "7b4574fd53aefb34",
   "execution_count": 18
  },
  {
   "cell_type": "markdown",
   "id": "sorted-violin",
   "metadata": {},
   "source": [
    "f. Create a short file called `questions-words-NAME.txt` (where `NAME` is your name) with several new test items for analogies (at least 10 lines), following the template of `questions-words.txt`.  For instance, from the three following pairs: (eye, see), (ear, listen), and (foot, walk) you can create 12 test items, varying the item that the system must predict and the initial items.  What is the accuracy of the model on your test set?"
   ]
  },
  {
   "cell_type": "code",
   "execution_count": 19,
   "id": "hundred-installation",
   "metadata": {
    "ExecuteTime": {
     "end_time": "2024-04-05T19:07:20.268574100Z",
     "start_time": "2024-04-05T19:07:16.265711400Z"
    }
   },
   "outputs": [
    {
     "data": {
      "text/plain": "(0.2857142857142857,\n [{'section': 'custom-knowledge',\n   'correct': [('ITALY', 'PIZZA', 'JAPAN', 'SUSHI'),\n    ('MEXICO', 'MARIACHI', 'SPAIN', 'FLAMENCO')],\n   'incorrect': [('AUSTRALIA', 'KANGAROO', 'EGYPT', 'PYRAMIDS'),\n    ('FRANCE', 'WINE', 'RUSSIA', 'BALLET'),\n    ('USA', 'HOLLYWOOD', 'UK', 'TEA'),\n    ('GERMANY', 'CARS', 'SWITZERLAND', 'CHOCOLATE'),\n    ('GREECE', 'PHILOSOPHY', 'TURKEY', 'BAZAAR')]},\n  {'section': 'Total accuracy',\n   'correct': [('ITALY', 'PIZZA', 'JAPAN', 'SUSHI'),\n    ('MEXICO', 'MARIACHI', 'SPAIN', 'FLAMENCO')],\n   'incorrect': [('AUSTRALIA', 'KANGAROO', 'EGYPT', 'PYRAMIDS'),\n    ('FRANCE', 'WINE', 'RUSSIA', 'BALLET'),\n    ('USA', 'HOLLYWOOD', 'UK', 'TEA'),\n    ('GERMANY', 'CARS', 'SWITZERLAND', 'CHOCOLATE'),\n    ('GREECE', 'PHILOSOPHY', 'TURKEY', 'BAZAAR')]}])"
     },
     "execution_count": 19,
     "metadata": {},
     "output_type": "execute_result"
    }
   ],
   "source": [
    "# Please write your Python code below and execute it.\n",
    "wv_model.evaluate_word_analogies('./questions-words-Ruben.txt')"
   ]
  },
  {
   "cell_type": "markdown",
   "id": "competent-usage",
   "metadata": {},
   "source": [
    "## 3. Training a word2vec model from scratch\n",
    "In this section, you will first use `gensim.downloader` to retrieve a 100-million character corpus ('text8' excerpt from Wikipedia).  You will use this data to train your own word2vec model.  Then, you will test the model on word similarity and analogies tasks.\n",
    "* [documentation of gensim.downloader](https://radimrehurek.com/gensim/downloader.html)\n",
    "* [corpora and pre-trained models available from gensim-data](https://github.com/RaRe-Technologies/gensim-data) -- the list can also be accessed with the command `gensim.downloader.info()` \n",
    "\n",
    "Please run the following code first."
   ]
  },
  {
   "cell_type": "code",
   "execution_count": 20,
   "id": "satellite-interface",
   "metadata": {
    "ExecuteTime": {
     "end_time": "2024-04-05T19:07:20.650107800Z",
     "start_time": "2024-04-05T19:07:20.261572600Z"
    }
   },
   "outputs": [],
   "source": [
    "import gensim.downloader as api\n",
    "text8_corpus = api.load('text8') # Downloads file once if needed -- if not, loads it from local copy."
   ]
  },
  {
   "cell_type": "markdown",
   "id": "august-meaning",
   "metadata": {},
   "source": [
    "a. How many words are there in the 'text8' corpus?"
   ]
  },
  {
   "cell_type": "code",
   "execution_count": 21,
   "id": "another-vatican",
   "metadata": {
    "ExecuteTime": {
     "end_time": "2024-04-05T19:07:20.665358Z",
     "start_time": "2024-04-05T19:07:20.651107700Z"
    }
   },
   "outputs": [],
   "source": [
    "from gensim.models import Word2Vec\n",
    "\n",
    "# Please write your Python code below and execute it.\n",
    "# text8_model = Word2Vec(text8_corpus)\n",
    "# text8_model.save(\"./text8-word2vec.bin\")\n"
   ]
  },
  {
   "cell_type": "code",
   "outputs": [
    {
     "name": "stdout",
     "output_type": "stream",
     "text": [
      "Number of words in the 'text8' corpus: 71290\n"
     ]
    }
   ],
   "source": [
    "text8_model = Word2Vec.load(\"./text8-word2vec.bin\") \n",
    "print(f\"Number of words in the 'text8' corpus: {text8_model.wv.vectors.shape[0]}\")"
   ],
   "metadata": {
    "collapsed": false,
    "ExecuteTime": {
     "end_time": "2024-04-05T19:07:21.179790500Z",
     "start_time": "2024-04-05T19:07:20.657360Z"
    }
   },
   "id": "142f0c0037510767",
   "execution_count": 22
  },
  {
   "cell_type": "markdown",
   "id": "steady-brown",
   "metadata": {},
   "source": [
    "b. Using the [documentation of Gensim's Word2Vec class](https://radimrehurek.com/gensim/models/word2vec.html), train your own word2vec model using 'text8'.  How many seconds does this take? (Use the difference between start and end times obtained with `time.time()`.)"
   ]
  },
  {
   "cell_type": "code",
   "execution_count": 23,
   "id": "blond-semiconductor",
   "metadata": {
    "ExecuteTime": {
     "end_time": "2024-04-05T19:08:10.531342Z",
     "start_time": "2024-04-05T19:07:21.202790Z"
    }
   },
   "outputs": [
    {
     "name": "stdout",
     "output_type": "stream",
     "text": [
      "Training the model took 49.31 seconds\n"
     ]
    }
   ],
   "source": [
    "import time\n",
    "from gensim.models import Word2Vec\n",
    "# Please write your Python code below and execute it.\n",
    "\n",
    "start_time = time.time()\n",
    "\n",
    "my_model = Word2Vec(sentences=text8_corpus,vector_size=100, window=5, min_count=5, workers=4)\n",
    "\n",
    "end_time = time.time()\n",
    "\n",
    "print(f\"Training the model took {end_time - start_time:.2f} seconds\")"
   ]
  },
  {
   "cell_type": "markdown",
   "id": "tribal-viking",
   "metadata": {},
   "source": [
    "c. Using your code from Section 1, what are the vocabulary size and the dimensionality of the embedding space of this model?"
   ]
  },
  {
   "cell_type": "code",
   "execution_count": 24,
   "id": "average-toolbox",
   "metadata": {
    "ExecuteTime": {
     "end_time": "2024-04-05T19:08:10.534342900Z",
     "start_time": "2024-04-05T19:08:10.519676300Z"
    }
   },
   "outputs": [
    {
     "name": "stdout",
     "output_type": "stream",
     "text": [
      "Vocabulary size: 71290\n",
      "\n",
      "Dimensionality of the embedding space: 100\n"
     ]
    }
   ],
   "source": [
    "# Please write the Python code needed to display the vocabulary size and execute it.\n",
    "\n",
    "print(f\"Vocabulary size: {my_model.wv.vectors.shape[0]}\\n\")\n",
    "\n",
    "print(f\"Dimensionality of the embedding space: {my_model.wv.vectors.shape[1]}\")"
   ]
  },
  {
   "cell_type": "markdown",
   "id": "complex-respondent",
   "metadata": {},
   "source": [
    "d. Please read the \"*Usage examples*\" of the [Word2Vec class](https://radimrehurek.com/gensim/models/word2vec.html) to understand the difference between saving the full Word2Vec model (which enables future retraining on additional data) or saving only the vectors, an instance of KeyedVectors, which will save space.  Now, (1) save the vectors only, (2) load the vectors into a new variable, and (if everything worked fine), (3) delete the old model variable from the notebook's memory using `del`.  Note: saving the vectors may create one or more files, depending on the size of the model."
   ]
  },
  {
   "cell_type": "code",
   "execution_count": 25,
   "id": "standard-development",
   "metadata": {
    "ExecuteTime": {
     "end_time": "2024-04-05T19:08:10.671864300Z",
     "start_time": "2024-04-05T19:08:10.533345Z"
    }
   },
   "outputs": [],
   "source": [
    "# Please write your Python code below and execute it.\n",
    "\n",
    "# Save the vectors only\n",
    "my_model.wv.save(\"./my-model-vectors.kv\")\n",
    "\n",
    "# Load the vectors into a new variable\n",
    "my_model_wv = KeyedVectors.load(\"./my-model-vectors.kv\")\n",
    "\n",
    "# Delete the old model variable\n",
    "del my_model"
   ]
  },
  {
   "cell_type": "markdown",
   "id": "backed-modern",
   "metadata": {},
   "source": [
    "e. Evaluate the new model on WordSimilarity-353 and Analogies tasks, reusing your code from above.  How does this model compare with the one trained on Google News?  Why?"
   ]
  },
  {
   "cell_type": "code",
   "execution_count": 26,
   "id": "domestic-evaluation",
   "metadata": {
    "ExecuteTime": {
     "end_time": "2024-04-05T19:09:05.234025600Z",
     "start_time": "2024-04-05T19:08:10.671864300Z"
    }
   },
   "outputs": [
    {
     "name": "stderr",
     "output_type": "stream",
     "text": [
      "C:\\Users\\Ruben\\AppData\\Local\\Temp\\ipykernel_3432\\3602064616.py:1: DeprecationWarning: Call to deprecated `init_sims` (Use fill_norms() instead. See https://github.com/RaRe-Technologies/gensim/wiki/Migrating-from-Gensim-3.x-to-4).\n",
      "  my_model_wv.init_sims(replace=True) # see (2b) but less important as the model is much smaller\n"
     ]
    },
    {
     "name": "stdout",
     "output_type": "stream",
     "text": [
      "Pearson Correlation Coefficient for the 'text8' model: 0.61\n",
      "Accuracy of the 'text8' model on the analogy tasks: 0.24457283895215123\n"
     ]
    }
   ],
   "source": [
    "my_model_wv.init_sims(replace=True) # see (2b) but less important as the model is much smaller\n",
    "\n",
    "# Please write your Python code below and execute it.\n",
    "\n",
    "# Evaluate the model on the WordSimilarity-353 task\n",
    "pearson_correlation_text8 = my_model_wv.evaluate_word_pairs(word_similarity_dataset)[0][0]\n",
    "\n",
    "# Display the Pearson Correlation Coefficient with two decimals\n",
    "print(f\"Pearson Correlation Coefficient for the 'text8' model: {pearson_correlation_text8:.2f}\")\n",
    "\n",
    "# Evaluate the model on the Analogy Tasks\n",
    "analogy_scores_text8 = my_model_wv.evaluate_word_analogies(datapath('questions-words.txt'))\n",
    "\n",
    "# Display the accuracy of the model on the analogy tasks\n",
    "print(f\"Accuracy of the 'text8' model on the analogy tasks: {analogy_scores_text8[0]}\")"
   ]
  },
  {
   "cell_type": "code",
   "execution_count": 27,
   "id": "dramatic-celtic",
   "metadata": {
    "ExecuteTime": {
     "end_time": "2024-04-05T19:09:05.240665600Z",
     "start_time": "2024-04-05T19:09:05.235025500Z"
    }
   },
   "outputs": [
    {
     "data": {
      "text/plain": "\"The 'text8' model performs slightly better on the WordSimilarity-353 task than the 'Google News' model, with a Pearson Correlation Coefficient of 0.66 compared to 0.62. This suggests that the 'text8' model is better at capturing the similarity between words in the dataset. However, the 'Google News' model performs much better on the analogy tasks, with an accuracy of 0.73 compared to 0.23 for the 'text8' model.\""
     },
     "execution_count": 27,
     "metadata": {},
     "output_type": "execute_result"
    }
   ],
   "source": [
    "# Please write below a short comment to compare the 'Text8' model with the'Google News' model.\n",
    "\"The 'text8' model performs slightly better on the WordSimilarity-353 task than the 'Google News' model, with a Pearson Correlation Coefficient of 0.66 compared to 0.62. This suggests that the 'text8' model is better at capturing the similarity between words in the dataset. However, the 'Google News' model performs much better on the analogy tasks, with an accuracy of 0.73 compared to 0.23 for the 'text8' model.\""
   ]
  },
  {
   "cell_type": "markdown",
   "id": "original-incident",
   "metadata": {},
   "source": [
    "f. Compare the accuracies on the analogy tasks of the two models for each category of tasks.  For which category are accuracies the most similar.  Can you explain this?"
   ]
  },
  {
   "cell_type": "code",
   "execution_count": 28,
   "id": "e2f40d4afddba0f9",
   "metadata": {
    "collapsed": false,
    "ExecuteTime": {
     "end_time": "2024-04-05T19:09:05.270067500Z",
     "start_time": "2024-04-05T19:09:05.256664300Z"
    }
   },
   "outputs": [
    {
     "name": "stdout",
     "output_type": "stream",
     "text": [
      "\n",
      "Google News accuracies:\n",
      "\n",
      "gram3-comparative: 91.29%\n",
      "gram6-nationality-adjective: 90.18%\n",
      "gram4-superlative: 87.97%\n",
      "gram8-plural: 87.01%\n",
      "family: 86.17%\n",
      "capital-common-countries: 83.20%\n",
      "capital-world: 81.32%\n",
      "gram5-present-participle: 78.50%\n",
      "Total accuracy: 74.01%\n",
      "city-in-state: 72.11%\n",
      "gram9-plural-verbs: 68.16%\n",
      "gram7-past-tense: 65.38%\n",
      "gram2-opposite: 43.47%\n",
      "gram1-adjective-to-adverb: 29.23%\n",
      "currency: 28.47%\n",
      "\n",
      "Text8 accuracies:\n",
      "\n",
      "family: 63.33%\n",
      "gram3-comparative: 59.61%\n",
      "gram6-nationality-adjective: 48.39%\n",
      "gram8-plural: 35.44%\n",
      "capital-common-countries: 33.99%\n",
      "gram5-present-participle: 28.69%\n",
      "gram9-plural-verbs: 24.83%\n",
      "Total accuracy: 24.46%\n",
      "gram7-past-tense: 22.24%\n",
      "gram4-superlative: 20.26%\n",
      "capital-world: 12.21%\n",
      "city-in-state: 10.21%\n",
      "gram1-adjective-to-adverb: 10.18%\n",
      "gram2-opposite: 6.35%\n",
      "currency: 5.20%\n"
     ]
    }
   ],
   "source": [
    "# Please write your Python code below and execute it.\n",
    "\n",
    "def get_accuracies(accuracy_result):\n",
    "    accuracies = {}\n",
    "    detailed_accuracies = accuracy_result[1]  # Assume this directly corresponds to detailed accuracies\n",
    "    for section in detailed_accuracies:\n",
    "        section_name = section['section']\n",
    "        # Assuming 'correct' and 'incorrect' are counts\n",
    "        accuracy = len(section['correct']) / (len(section['correct']) + len(section['incorrect']))\n",
    "        accuracies[section_name] = accuracy\n",
    "    return accuracies\n",
    "\n",
    "def print_top_accuracies(accuracies):\n",
    "    # Sort accuracies in descending order by their score\n",
    "    sorted_accuracies = sorted(accuracies.items(), key=lambda x: x[1], reverse=True)\n",
    "    \n",
    "    for section, accuracy in sorted_accuracies:\n",
    "        print(f\"{section}: {accuracy:.2%}\")\n",
    "\n",
    "    \n",
    "categories_accuracies_google = get_accuracies(analogy_scores)\n",
    "categories_accuracies_text8 = get_accuracies(analogy_scores_text8)\n",
    "\n",
    "print(\"\\nGoogle News accuracies:\\n\")\n",
    "print_top_accuracies(categories_accuracies_google)\n",
    "\n",
    "print(\"\\nText8 accuracies:\\n\")\n",
    "print_top_accuracies(categories_accuracies_text8)\n"
   ]
  },
  {
   "cell_type": "code",
   "outputs": [
    {
     "name": "stdout",
     "output_type": "stream",
     "text": [
      "Correct words in gram3-comparative: [('BAD', 'WORSE', 'BIG', 'BIGGER'), ('BAD', 'WORSE', 'BRIGHT', 'BRIGHTER'), ('BAD', 'WORSE', 'CHEAP', 'CHEAPER'), ('BAD', 'WORSE', 'COLD', 'COLDER'), ('BAD', 'WORSE', 'DEEP', 'DEEPER'), ('BAD', 'WORSE', 'EASY', 'EASIER'), ('BAD', 'WORSE', 'FAST', 'FASTER'), ('BAD', 'WORSE', 'GOOD', 'BETTER'), ('BAD', 'WORSE', 'GREAT', 'GREATER'), ('BAD', 'WORSE', 'HARD', 'HARDER'), ('BAD', 'WORSE', 'HEAVY', 'HEAVIER'), ('BAD', 'WORSE', 'HIGH', 'HIGHER'), ('BAD', 'WORSE', 'HOT', 'HOTTER'), ('BAD', 'WORSE', 'LARGE', 'LARGER'), ('BAD', 'WORSE', 'LONG', 'LONGER'), ('BAD', 'WORSE', 'LOUD', 'LOUDER'), ('BAD', 'WORSE', 'LOW', 'LOWER'), ('BAD', 'WORSE', 'QUICK', 'QUICKER'), ('BAD', 'WORSE', 'SAFE', 'SAFER'), ('BAD', 'WORSE', 'SHARP', 'SHARPER'), ('BAD', 'WORSE', 'SHORT', 'SHORTER'), ('BAD', 'WORSE', 'SIMPLE', 'SIMPLER'), ('BAD', 'WORSE', 'SLOW', 'SLOWER'), ('BAD', 'WORSE', 'SMART', 'SMARTER'), ('BAD', 'WORSE', 'STRONG', 'STRONGER'), ('BAD', 'WORSE', 'TALL', 'TALLER'), ('BAD', 'WORSE', 'TIGHT', 'TIGHTER'), ('BAD', 'WORSE', 'TOUGH', 'TOUGHER'), ('BAD', 'WORSE', 'WARM', 'WARMER'), ('BAD', 'WORSE', 'WEAK', 'WEAKER'), ('BAD', 'WORSE', 'WIDE', 'WIDER'), ('BAD', 'WORSE', 'YOUNG', 'YOUNGER'), ('BIG', 'BIGGER', 'BRIGHT', 'BRIGHTER'), ('BIG', 'BIGGER', 'CHEAP', 'CHEAPER'), ('BIG', 'BIGGER', 'COLD', 'COLDER'), ('BIG', 'BIGGER', 'COOL', 'COOLER'), ('BIG', 'BIGGER', 'DEEP', 'DEEPER'), ('BIG', 'BIGGER', 'EASY', 'EASIER'), ('BIG', 'BIGGER', 'FAST', 'FASTER'), ('BIG', 'BIGGER', 'GOOD', 'BETTER'), ('BIG', 'BIGGER', 'HARD', 'HARDER'), ('BIG', 'BIGGER', 'HEAVY', 'HEAVIER'), ('BIG', 'BIGGER', 'HIGH', 'HIGHER'), ('BIG', 'BIGGER', 'HOT', 'HOTTER'), ('BIG', 'BIGGER', 'LARGE', 'LARGER'), ('BIG', 'BIGGER', 'LONG', 'LONGER'), ('BIG', 'BIGGER', 'LOUD', 'LOUDER'), ('BIG', 'BIGGER', 'LOW', 'LOWER'), ('BIG', 'BIGGER', 'QUICK', 'QUICKER'), ('BIG', 'BIGGER', 'SAFE', 'SAFER'), ('BIG', 'BIGGER', 'SHARP', 'SHARPER'), ('BIG', 'BIGGER', 'SHORT', 'SHORTER'), ('BIG', 'BIGGER', 'SIMPLE', 'SIMPLER'), ('BIG', 'BIGGER', 'SLOW', 'SLOWER'), ('BIG', 'BIGGER', 'SMART', 'SMARTER'), ('BIG', 'BIGGER', 'STRONG', 'STRONGER'), ('BIG', 'BIGGER', 'TALL', 'TALLER'), ('BIG', 'BIGGER', 'TIGHT', 'TIGHTER'), ('BIG', 'BIGGER', 'TOUGH', 'TOUGHER'), ('BIG', 'BIGGER', 'WARM', 'WARMER'), ('BIG', 'BIGGER', 'WEAK', 'WEAKER'), ('BIG', 'BIGGER', 'WIDE', 'WIDER'), ('BIG', 'BIGGER', 'YOUNG', 'YOUNGER'), ('BIG', 'BIGGER', 'BAD', 'WORSE'), ('BRIGHT', 'BRIGHTER', 'CHEAP', 'CHEAPER'), ('BRIGHT', 'BRIGHTER', 'COLD', 'COLDER'), ('BRIGHT', 'BRIGHTER', 'COOL', 'COOLER'), ('BRIGHT', 'BRIGHTER', 'DEEP', 'DEEPER'), ('BRIGHT', 'BRIGHTER', 'EASY', 'EASIER'), ('BRIGHT', 'BRIGHTER', 'FAST', 'FASTER'), ('BRIGHT', 'BRIGHTER', 'GOOD', 'BETTER'), ('BRIGHT', 'BRIGHTER', 'HARD', 'HARDER'), ('BRIGHT', 'BRIGHTER', 'HEAVY', 'HEAVIER'), ('BRIGHT', 'BRIGHTER', 'HIGH', 'HIGHER'), ('BRIGHT', 'BRIGHTER', 'HOT', 'HOTTER'), ('BRIGHT', 'BRIGHTER', 'LARGE', 'LARGER'), ('BRIGHT', 'BRIGHTER', 'LONG', 'LONGER'), ('BRIGHT', 'BRIGHTER', 'LOUD', 'LOUDER'), ('BRIGHT', 'BRIGHTER', 'LOW', 'LOWER'), ('BRIGHT', 'BRIGHTER', 'QUICK', 'QUICKER'), ('BRIGHT', 'BRIGHTER', 'SAFE', 'SAFER'), ('BRIGHT', 'BRIGHTER', 'SHARP', 'SHARPER'), ('BRIGHT', 'BRIGHTER', 'SHORT', 'SHORTER'), ('BRIGHT', 'BRIGHTER', 'SIMPLE', 'SIMPLER'), ('BRIGHT', 'BRIGHTER', 'SLOW', 'SLOWER'), ('BRIGHT', 'BRIGHTER', 'SMALL', 'SMALLER'), ('BRIGHT', 'BRIGHTER', 'SMART', 'SMARTER'), ('BRIGHT', 'BRIGHTER', 'STRONG', 'STRONGER'), ('BRIGHT', 'BRIGHTER', 'TALL', 'TALLER'), ('BRIGHT', 'BRIGHTER', 'TIGHT', 'TIGHTER'), ('BRIGHT', 'BRIGHTER', 'TOUGH', 'TOUGHER'), ('BRIGHT', 'BRIGHTER', 'WARM', 'WARMER'), ('BRIGHT', 'BRIGHTER', 'WEAK', 'WEAKER'), ('BRIGHT', 'BRIGHTER', 'WIDE', 'WIDER'), ('BRIGHT', 'BRIGHTER', 'YOUNG', 'YOUNGER'), ('BRIGHT', 'BRIGHTER', 'BAD', 'WORSE'), ('BRIGHT', 'BRIGHTER', 'BIG', 'BIGGER'), ('CHEAP', 'CHEAPER', 'COLD', 'COLDER'), ('CHEAP', 'CHEAPER', 'COOL', 'COOLER'), ('CHEAP', 'CHEAPER', 'DEEP', 'DEEPER'), ('CHEAP', 'CHEAPER', 'EASY', 'EASIER'), ('CHEAP', 'CHEAPER', 'FAST', 'FASTER'), ('CHEAP', 'CHEAPER', 'GOOD', 'BETTER'), ('CHEAP', 'CHEAPER', 'HARD', 'HARDER'), ('CHEAP', 'CHEAPER', 'HEAVY', 'HEAVIER'), ('CHEAP', 'CHEAPER', 'HIGH', 'HIGHER'), ('CHEAP', 'CHEAPER', 'HOT', 'HOTTER'), ('CHEAP', 'CHEAPER', 'LARGE', 'LARGER'), ('CHEAP', 'CHEAPER', 'LOUD', 'LOUDER'), ('CHEAP', 'CHEAPER', 'LOW', 'LOWER'), ('CHEAP', 'CHEAPER', 'QUICK', 'QUICKER'), ('CHEAP', 'CHEAPER', 'SAFE', 'SAFER'), ('CHEAP', 'CHEAPER', 'SHARP', 'SHARPER'), ('CHEAP', 'CHEAPER', 'SHORT', 'SHORTER'), ('CHEAP', 'CHEAPER', 'SIMPLE', 'SIMPLER'), ('CHEAP', 'CHEAPER', 'SLOW', 'SLOWER'), ('CHEAP', 'CHEAPER', 'SMALL', 'SMALLER'), ('CHEAP', 'CHEAPER', 'SMART', 'SMARTER'), ('CHEAP', 'CHEAPER', 'STRONG', 'STRONGER'), ('CHEAP', 'CHEAPER', 'TALL', 'TALLER'), ('CHEAP', 'CHEAPER', 'TIGHT', 'TIGHTER'), ('CHEAP', 'CHEAPER', 'TOUGH', 'TOUGHER'), ('CHEAP', 'CHEAPER', 'WARM', 'WARMER'), ('CHEAP', 'CHEAPER', 'WEAK', 'WEAKER'), ('CHEAP', 'CHEAPER', 'WIDE', 'WIDER'), ('CHEAP', 'CHEAPER', 'YOUNG', 'YOUNGER'), ('CHEAP', 'CHEAPER', 'BAD', 'WORSE'), ('CHEAP', 'CHEAPER', 'BIG', 'BIGGER'), ('CHEAP', 'CHEAPER', 'BRIGHT', 'BRIGHTER'), ('COLD', 'COLDER', 'COOL', 'COOLER'), ('COLD', 'COLDER', 'DEEP', 'DEEPER'), ('COLD', 'COLDER', 'EASY', 'EASIER'), ('COLD', 'COLDER', 'FAST', 'FASTER'), ('COLD', 'COLDER', 'GOOD', 'BETTER'), ('COLD', 'COLDER', 'HARD', 'HARDER'), ('COLD', 'COLDER', 'HEAVY', 'HEAVIER'), ('COLD', 'COLDER', 'HIGH', 'HIGHER'), ('COLD', 'COLDER', 'HOT', 'HOTTER'), ('COLD', 'COLDER', 'LARGE', 'LARGER'), ('COLD', 'COLDER', 'LOUD', 'LOUDER'), ('COLD', 'COLDER', 'LOW', 'LOWER'), ('COLD', 'COLDER', 'NEW', 'NEWER'), ('COLD', 'COLDER', 'QUICK', 'QUICKER'), ('COLD', 'COLDER', 'SAFE', 'SAFER'), ('COLD', 'COLDER', 'SHARP', 'SHARPER'), ('COLD', 'COLDER', 'SHORT', 'SHORTER'), ('COLD', 'COLDER', 'SIMPLE', 'SIMPLER'), ('COLD', 'COLDER', 'SLOW', 'SLOWER'), ('COLD', 'COLDER', 'SMALL', 'SMALLER'), ('COLD', 'COLDER', 'SMART', 'SMARTER'), ('COLD', 'COLDER', 'STRONG', 'STRONGER'), ('COLD', 'COLDER', 'TALL', 'TALLER'), ('COLD', 'COLDER', 'TIGHT', 'TIGHTER'), ('COLD', 'COLDER', 'TOUGH', 'TOUGHER'), ('COLD', 'COLDER', 'WARM', 'WARMER'), ('COLD', 'COLDER', 'WEAK', 'WEAKER'), ('COLD', 'COLDER', 'WIDE', 'WIDER'), ('COLD', 'COLDER', 'YOUNG', 'YOUNGER'), ('COLD', 'COLDER', 'BAD', 'WORSE'), ('COLD', 'COLDER', 'BIG', 'BIGGER'), ('COLD', 'COLDER', 'BRIGHT', 'BRIGHTER'), ('COLD', 'COLDER', 'CHEAP', 'CHEAPER'), ('COOL', 'COOLER', 'DEEP', 'DEEPER'), ('COOL', 'COOLER', 'EASY', 'EASIER'), ('COOL', 'COOLER', 'FAST', 'FASTER'), ('COOL', 'COOLER', 'GOOD', 'BETTER'), ('COOL', 'COOLER', 'HARD', 'HARDER'), ('COOL', 'COOLER', 'HEAVY', 'HEAVIER'), ('COOL', 'COOLER', 'HIGH', 'HIGHER'), ('COOL', 'COOLER', 'HOT', 'HOTTER'), ('COOL', 'COOLER', 'LARGE', 'LARGER'), ('COOL', 'COOLER', 'LONG', 'LONGER'), ('COOL', 'COOLER', 'LOUD', 'LOUDER'), ('COOL', 'COOLER', 'LOW', 'LOWER'), ('COOL', 'COOLER', 'NEW', 'NEWER'), ('COOL', 'COOLER', 'QUICK', 'QUICKER'), ('COOL', 'COOLER', 'SAFE', 'SAFER'), ('COOL', 'COOLER', 'SHARP', 'SHARPER'), ('COOL', 'COOLER', 'SHORT', 'SHORTER'), ('COOL', 'COOLER', 'SIMPLE', 'SIMPLER'), ('COOL', 'COOLER', 'SLOW', 'SLOWER'), ('COOL', 'COOLER', 'SMALL', 'SMALLER'), ('COOL', 'COOLER', 'SMART', 'SMARTER'), ('COOL', 'COOLER', 'STRONG', 'STRONGER'), ('COOL', 'COOLER', 'TALL', 'TALLER'), ('COOL', 'COOLER', 'TIGHT', 'TIGHTER'), ('COOL', 'COOLER', 'TOUGH', 'TOUGHER'), ('COOL', 'COOLER', 'WARM', 'WARMER'), ('COOL', 'COOLER', 'WEAK', 'WEAKER'), ('COOL', 'COOLER', 'WIDE', 'WIDER'), ('COOL', 'COOLER', 'YOUNG', 'YOUNGER'), ('COOL', 'COOLER', 'BAD', 'WORSE'), ('COOL', 'COOLER', 'BIG', 'BIGGER'), ('COOL', 'COOLER', 'BRIGHT', 'BRIGHTER'), ('COOL', 'COOLER', 'CHEAP', 'CHEAPER'), ('COOL', 'COOLER', 'COLD', 'COLDER'), ('DEEP', 'DEEPER', 'EASY', 'EASIER'), ('DEEP', 'DEEPER', 'FAST', 'FASTER'), ('DEEP', 'DEEPER', 'GOOD', 'BETTER'), ('DEEP', 'DEEPER', 'HARD', 'HARDER'), ('DEEP', 'DEEPER', 'HEAVY', 'HEAVIER'), ('DEEP', 'DEEPER', 'HIGH', 'HIGHER'), ('DEEP', 'DEEPER', 'HOT', 'HOTTER'), ('DEEP', 'DEEPER', 'LARGE', 'LARGER'), ('DEEP', 'DEEPER', 'LONG', 'LONGER'), ('DEEP', 'DEEPER', 'LOUD', 'LOUDER'), ('DEEP', 'DEEPER', 'QUICK', 'QUICKER'), ('DEEP', 'DEEPER', 'SAFE', 'SAFER'), ('DEEP', 'DEEPER', 'SHARP', 'SHARPER'), ('DEEP', 'DEEPER', 'SHORT', 'SHORTER'), ('DEEP', 'DEEPER', 'SIMPLE', 'SIMPLER'), ('DEEP', 'DEEPER', 'SLOW', 'SLOWER'), ('DEEP', 'DEEPER', 'SMART', 'SMARTER'), ('DEEP', 'DEEPER', 'STRONG', 'STRONGER'), ('DEEP', 'DEEPER', 'TALL', 'TALLER'), ('DEEP', 'DEEPER', 'TIGHT', 'TIGHTER'), ('DEEP', 'DEEPER', 'TOUGH', 'TOUGHER'), ('DEEP', 'DEEPER', 'WARM', 'WARMER'), ('DEEP', 'DEEPER', 'WEAK', 'WEAKER'), ('DEEP', 'DEEPER', 'WIDE', 'WIDER'), ('DEEP', 'DEEPER', 'YOUNG', 'YOUNGER'), ('DEEP', 'DEEPER', 'BAD', 'WORSE'), ('DEEP', 'DEEPER', 'BIG', 'BIGGER'), ('DEEP', 'DEEPER', 'BRIGHT', 'BRIGHTER'), ('DEEP', 'DEEPER', 'CHEAP', 'CHEAPER'), ('DEEP', 'DEEPER', 'COLD', 'COLDER'), ('DEEP', 'DEEPER', 'COOL', 'COOLER'), ('EASY', 'EASIER', 'FAST', 'FASTER'), ('EASY', 'EASIER', 'GOOD', 'BETTER'), ('EASY', 'EASIER', 'HARD', 'HARDER'), ('EASY', 'EASIER', 'HEAVY', 'HEAVIER'), ('EASY', 'EASIER', 'HIGH', 'HIGHER'), ('EASY', 'EASIER', 'HOT', 'HOTTER'), ('EASY', 'EASIER', 'LARGE', 'LARGER'), ('EASY', 'EASIER', 'LOUD', 'LOUDER'), ('EASY', 'EASIER', 'LOW', 'LOWER'), ('EASY', 'EASIER', 'QUICK', 'QUICKER'), ('EASY', 'EASIER', 'SAFE', 'SAFER'), ('EASY', 'EASIER', 'SHARP', 'SHARPER'), ('EASY', 'EASIER', 'SHORT', 'SHORTER'), ('EASY', 'EASIER', 'SIMPLE', 'SIMPLER'), ('EASY', 'EASIER', 'SLOW', 'SLOWER'), ('EASY', 'EASIER', 'SMALL', 'SMALLER'), ('EASY', 'EASIER', 'SMART', 'SMARTER'), ('EASY', 'EASIER', 'STRONG', 'STRONGER'), ('EASY', 'EASIER', 'TALL', 'TALLER'), ('EASY', 'EASIER', 'TIGHT', 'TIGHTER'), ('EASY', 'EASIER', 'TOUGH', 'TOUGHER'), ('EASY', 'EASIER', 'WARM', 'WARMER'), ('EASY', 'EASIER', 'WEAK', 'WEAKER'), ('EASY', 'EASIER', 'WIDE', 'WIDER'), ('EASY', 'EASIER', 'YOUNG', 'YOUNGER'), ('EASY', 'EASIER', 'BAD', 'WORSE'), ('EASY', 'EASIER', 'BIG', 'BIGGER'), ('EASY', 'EASIER', 'BRIGHT', 'BRIGHTER'), ('EASY', 'EASIER', 'CHEAP', 'CHEAPER'), ('EASY', 'EASIER', 'COLD', 'COLDER'), ('EASY', 'EASIER', 'COOL', 'COOLER'), ('EASY', 'EASIER', 'DEEP', 'DEEPER'), ('FAST', 'FASTER', 'GOOD', 'BETTER'), ('FAST', 'FASTER', 'HARD', 'HARDER'), ('FAST', 'FASTER', 'HEAVY', 'HEAVIER'), ('FAST', 'FASTER', 'HIGH', 'HIGHER'), ('FAST', 'FASTER', 'HOT', 'HOTTER'), ('FAST', 'FASTER', 'LARGE', 'LARGER'), ('FAST', 'FASTER', 'LONG', 'LONGER'), ('FAST', 'FASTER', 'LOUD', 'LOUDER'), ('FAST', 'FASTER', 'LOW', 'LOWER'), ('FAST', 'FASTER', 'NEW', 'NEWER'), ('FAST', 'FASTER', 'OLD', 'OLDER'), ('FAST', 'FASTER', 'QUICK', 'QUICKER'), ('FAST', 'FASTER', 'SAFE', 'SAFER'), ('FAST', 'FASTER', 'SHARP', 'SHARPER'), ('FAST', 'FASTER', 'SHORT', 'SHORTER'), ('FAST', 'FASTER', 'SIMPLE', 'SIMPLER'), ('FAST', 'FASTER', 'SLOW', 'SLOWER'), ('FAST', 'FASTER', 'SMALL', 'SMALLER'), ('FAST', 'FASTER', 'SMART', 'SMARTER'), ('FAST', 'FASTER', 'STRONG', 'STRONGER'), ('FAST', 'FASTER', 'TALL', 'TALLER'), ('FAST', 'FASTER', 'TIGHT', 'TIGHTER'), ('FAST', 'FASTER', 'TOUGH', 'TOUGHER'), ('FAST', 'FASTER', 'WARM', 'WARMER'), ('FAST', 'FASTER', 'WEAK', 'WEAKER'), ('FAST', 'FASTER', 'WIDE', 'WIDER'), ('FAST', 'FASTER', 'YOUNG', 'YOUNGER'), ('FAST', 'FASTER', 'BAD', 'WORSE'), ('FAST', 'FASTER', 'BIG', 'BIGGER'), ('FAST', 'FASTER', 'BRIGHT', 'BRIGHTER'), ('FAST', 'FASTER', 'CHEAP', 'CHEAPER'), ('FAST', 'FASTER', 'COLD', 'COLDER'), ('FAST', 'FASTER', 'COOL', 'COOLER'), ('FAST', 'FASTER', 'DEEP', 'DEEPER'), ('FAST', 'FASTER', 'EASY', 'EASIER'), ('GOOD', 'BETTER', 'GREAT', 'GREATER'), ('GOOD', 'BETTER', 'HARD', 'HARDER'), ('GOOD', 'BETTER', 'HEAVY', 'HEAVIER'), ('GOOD', 'BETTER', 'HIGH', 'HIGHER'), ('GOOD', 'BETTER', 'HOT', 'HOTTER'), ('GOOD', 'BETTER', 'LARGE', 'LARGER'), ('GOOD', 'BETTER', 'LONG', 'LONGER'), ('GOOD', 'BETTER', 'LOUD', 'LOUDER'), ('GOOD', 'BETTER', 'LOW', 'LOWER'), ('GOOD', 'BETTER', 'QUICK', 'QUICKER'), ('GOOD', 'BETTER', 'SAFE', 'SAFER'), ('GOOD', 'BETTER', 'SHARP', 'SHARPER'), ('GOOD', 'BETTER', 'SHORT', 'SHORTER'), ('GOOD', 'BETTER', 'SIMPLE', 'SIMPLER'), ('GOOD', 'BETTER', 'SLOW', 'SLOWER'), ('GOOD', 'BETTER', 'SMALL', 'SMALLER'), ('GOOD', 'BETTER', 'SMART', 'SMARTER'), ('GOOD', 'BETTER', 'STRONG', 'STRONGER'), ('GOOD', 'BETTER', 'TALL', 'TALLER'), ('GOOD', 'BETTER', 'TIGHT', 'TIGHTER'), ('GOOD', 'BETTER', 'TOUGH', 'TOUGHER'), ('GOOD', 'BETTER', 'WARM', 'WARMER'), ('GOOD', 'BETTER', 'WEAK', 'WEAKER'), ('GOOD', 'BETTER', 'WIDE', 'WIDER'), ('GOOD', 'BETTER', 'YOUNG', 'YOUNGER'), ('GOOD', 'BETTER', 'BAD', 'WORSE'), ('GOOD', 'BETTER', 'BIG', 'BIGGER'), ('GOOD', 'BETTER', 'BRIGHT', 'BRIGHTER'), ('GOOD', 'BETTER', 'CHEAP', 'CHEAPER'), ('GOOD', 'BETTER', 'COLD', 'COLDER'), ('GOOD', 'BETTER', 'COOL', 'COOLER'), ('GOOD', 'BETTER', 'DEEP', 'DEEPER'), ('GOOD', 'BETTER', 'EASY', 'EASIER'), ('GOOD', 'BETTER', 'FAST', 'FASTER'), ('GREAT', 'GREATER', 'HARD', 'HARDER'), ('GREAT', 'GREATER', 'HEAVY', 'HEAVIER'), ('GREAT', 'GREATER', 'HIGH', 'HIGHER'), ('GREAT', 'GREATER', 'HOT', 'HOTTER'), ('GREAT', 'GREATER', 'LARGE', 'LARGER'), ('GREAT', 'GREATER', 'LONG', 'LONGER'), ('GREAT', 'GREATER', 'LOUD', 'LOUDER'), ('GREAT', 'GREATER', 'LOW', 'LOWER'), ('GREAT', 'GREATER', 'SAFE', 'SAFER'), ('GREAT', 'GREATER', 'SHARP', 'SHARPER'), ('GREAT', 'GREATER', 'SHORT', 'SHORTER'), ('GREAT', 'GREATER', 'SIMPLE', 'SIMPLER'), ('GREAT', 'GREATER', 'SLOW', 'SLOWER'), ('GREAT', 'GREATER', 'SMART', 'SMARTER'), ('GREAT', 'GREATER', 'STRONG', 'STRONGER'), ('GREAT', 'GREATER', 'TALL', 'TALLER'), ('GREAT', 'GREATER', 'TIGHT', 'TIGHTER'), ('GREAT', 'GREATER', 'TOUGH', 'TOUGHER'), ('GREAT', 'GREATER', 'WARM', 'WARMER'), ('GREAT', 'GREATER', 'WEAK', 'WEAKER'), ('GREAT', 'GREATER', 'WIDE', 'WIDER'), ('GREAT', 'GREATER', 'YOUNG', 'YOUNGER'), ('GREAT', 'GREATER', 'BAD', 'WORSE'), ('GREAT', 'GREATER', 'BIG', 'BIGGER'), ('GREAT', 'GREATER', 'BRIGHT', 'BRIGHTER'), ('GREAT', 'GREATER', 'CHEAP', 'CHEAPER'), ('GREAT', 'GREATER', 'COLD', 'COLDER'), ('GREAT', 'GREATER', 'COOL', 'COOLER'), ('GREAT', 'GREATER', 'DEEP', 'DEEPER'), ('GREAT', 'GREATER', 'EASY', 'EASIER'), ('GREAT', 'GREATER', 'FAST', 'FASTER'), ('GREAT', 'GREATER', 'GOOD', 'BETTER'), ('HARD', 'HARDER', 'HEAVY', 'HEAVIER'), ('HARD', 'HARDER', 'HIGH', 'HIGHER'), ('HARD', 'HARDER', 'HOT', 'HOTTER'), ('HARD', 'HARDER', 'LARGE', 'LARGER'), ('HARD', 'HARDER', 'LONG', 'LONGER'), ('HARD', 'HARDER', 'LOUD', 'LOUDER'), ('HARD', 'HARDER', 'LOW', 'LOWER'), ('HARD', 'HARDER', 'NEW', 'NEWER'), ('HARD', 'HARDER', 'QUICK', 'QUICKER'), ('HARD', 'HARDER', 'SAFE', 'SAFER'), ('HARD', 'HARDER', 'SHARP', 'SHARPER'), ('HARD', 'HARDER', 'SHORT', 'SHORTER'), ('HARD', 'HARDER', 'SIMPLE', 'SIMPLER'), ('HARD', 'HARDER', 'SLOW', 'SLOWER'), ('HARD', 'HARDER', 'SMALL', 'SMALLER'), ('HARD', 'HARDER', 'SMART', 'SMARTER'), ('HARD', 'HARDER', 'STRONG', 'STRONGER'), ('HARD', 'HARDER', 'TALL', 'TALLER'), ('HARD', 'HARDER', 'TIGHT', 'TIGHTER'), ('HARD', 'HARDER', 'TOUGH', 'TOUGHER'), ('HARD', 'HARDER', 'WARM', 'WARMER'), ('HARD', 'HARDER', 'WEAK', 'WEAKER'), ('HARD', 'HARDER', 'WIDE', 'WIDER'), ('HARD', 'HARDER', 'YOUNG', 'YOUNGER'), ('HARD', 'HARDER', 'BAD', 'WORSE'), ('HARD', 'HARDER', 'BIG', 'BIGGER'), ('HARD', 'HARDER', 'BRIGHT', 'BRIGHTER'), ('HARD', 'HARDER', 'CHEAP', 'CHEAPER'), ('HARD', 'HARDER', 'COLD', 'COLDER'), ('HARD', 'HARDER', 'COOL', 'COOLER'), ('HARD', 'HARDER', 'DEEP', 'DEEPER'), ('HARD', 'HARDER', 'EASY', 'EASIER'), ('HARD', 'HARDER', 'FAST', 'FASTER'), ('HARD', 'HARDER', 'GOOD', 'BETTER'), ('HEAVY', 'HEAVIER', 'HIGH', 'HIGHER'), ('HEAVY', 'HEAVIER', 'HOT', 'HOTTER'), ('HEAVY', 'HEAVIER', 'LARGE', 'LARGER'), ('HEAVY', 'HEAVIER', 'LOUD', 'LOUDER'), ('HEAVY', 'HEAVIER', 'LOW', 'LOWER'), ('HEAVY', 'HEAVIER', 'NEW', 'NEWER'), ('HEAVY', 'HEAVIER', 'OLD', 'OLDER'), ('HEAVY', 'HEAVIER', 'QUICK', 'QUICKER'), ('HEAVY', 'HEAVIER', 'SAFE', 'SAFER'), ('HEAVY', 'HEAVIER', 'SHARP', 'SHARPER'), ('HEAVY', 'HEAVIER', 'SHORT', 'SHORTER'), ('HEAVY', 'HEAVIER', 'SIMPLE', 'SIMPLER'), ('HEAVY', 'HEAVIER', 'SLOW', 'SLOWER'), ('HEAVY', 'HEAVIER', 'SMALL', 'SMALLER'), ('HEAVY', 'HEAVIER', 'SMART', 'SMARTER'), ('HEAVY', 'HEAVIER', 'STRONG', 'STRONGER'), ('HEAVY', 'HEAVIER', 'TALL', 'TALLER'), ('HEAVY', 'HEAVIER', 'TIGHT', 'TIGHTER'), ('HEAVY', 'HEAVIER', 'TOUGH', 'TOUGHER'), ('HEAVY', 'HEAVIER', 'WARM', 'WARMER'), ('HEAVY', 'HEAVIER', 'WEAK', 'WEAKER'), ('HEAVY', 'HEAVIER', 'WIDE', 'WIDER'), ('HEAVY', 'HEAVIER', 'YOUNG', 'YOUNGER'), ('HEAVY', 'HEAVIER', 'BAD', 'WORSE'), ('HEAVY', 'HEAVIER', 'BIG', 'BIGGER'), ('HEAVY', 'HEAVIER', 'BRIGHT', 'BRIGHTER'), ('HEAVY', 'HEAVIER', 'CHEAP', 'CHEAPER'), ('HEAVY', 'HEAVIER', 'COLD', 'COLDER'), ('HEAVY', 'HEAVIER', 'COOL', 'COOLER'), ('HEAVY', 'HEAVIER', 'DEEP', 'DEEPER'), ('HEAVY', 'HEAVIER', 'EASY', 'EASIER'), ('HEAVY', 'HEAVIER', 'FAST', 'FASTER'), ('HEAVY', 'HEAVIER', 'GOOD', 'BETTER'), ('HEAVY', 'HEAVIER', 'HARD', 'HARDER'), ('HIGH', 'HIGHER', 'HOT', 'HOTTER'), ('HIGH', 'HIGHER', 'LARGE', 'LARGER'), ('HIGH', 'HIGHER', 'LONG', 'LONGER'), ('HIGH', 'HIGHER', 'LOUD', 'LOUDER'), ('HIGH', 'HIGHER', 'LOW', 'LOWER'), ('HIGH', 'HIGHER', 'QUICK', 'QUICKER'), ('HIGH', 'HIGHER', 'SAFE', 'SAFER'), ('HIGH', 'HIGHER', 'SHARP', 'SHARPER'), ('HIGH', 'HIGHER', 'SHORT', 'SHORTER'), ('HIGH', 'HIGHER', 'SIMPLE', 'SIMPLER'), ('HIGH', 'HIGHER', 'SLOW', 'SLOWER'), ('HIGH', 'HIGHER', 'SMALL', 'SMALLER'), ('HIGH', 'HIGHER', 'SMART', 'SMARTER'), ('HIGH', 'HIGHER', 'STRONG', 'STRONGER'), ('HIGH', 'HIGHER', 'TALL', 'TALLER'), ('HIGH', 'HIGHER', 'TIGHT', 'TIGHTER'), ('HIGH', 'HIGHER', 'TOUGH', 'TOUGHER'), ('HIGH', 'HIGHER', 'WARM', 'WARMER'), ('HIGH', 'HIGHER', 'WEAK', 'WEAKER'), ('HIGH', 'HIGHER', 'WIDE', 'WIDER'), ('HIGH', 'HIGHER', 'YOUNG', 'YOUNGER'), ('HIGH', 'HIGHER', 'BAD', 'WORSE'), ('HIGH', 'HIGHER', 'BIG', 'BIGGER'), ('HIGH', 'HIGHER', 'BRIGHT', 'BRIGHTER'), ('HIGH', 'HIGHER', 'CHEAP', 'CHEAPER'), ('HIGH', 'HIGHER', 'COLD', 'COLDER'), ('HIGH', 'HIGHER', 'COOL', 'COOLER'), ('HIGH', 'HIGHER', 'DEEP', 'DEEPER'), ('HIGH', 'HIGHER', 'EASY', 'EASIER'), ('HIGH', 'HIGHER', 'FAST', 'FASTER'), ('HIGH', 'HIGHER', 'GOOD', 'BETTER'), ('HIGH', 'HIGHER', 'HARD', 'HARDER'), ('HIGH', 'HIGHER', 'HEAVY', 'HEAVIER'), ('HOT', 'HOTTER', 'LARGE', 'LARGER'), ('HOT', 'HOTTER', 'LONG', 'LONGER'), ('HOT', 'HOTTER', 'LOUD', 'LOUDER'), ('HOT', 'HOTTER', 'LOW', 'LOWER'), ('HOT', 'HOTTER', 'NEW', 'NEWER'), ('HOT', 'HOTTER', 'QUICK', 'QUICKER'), ('HOT', 'HOTTER', 'SAFE', 'SAFER'), ('HOT', 'HOTTER', 'SHARP', 'SHARPER'), ('HOT', 'HOTTER', 'SHORT', 'SHORTER'), ('HOT', 'HOTTER', 'SIMPLE', 'SIMPLER'), ('HOT', 'HOTTER', 'SLOW', 'SLOWER'), ('HOT', 'HOTTER', 'SMALL', 'SMALLER'), ('HOT', 'HOTTER', 'SMART', 'SMARTER'), ('HOT', 'HOTTER', 'STRONG', 'STRONGER'), ('HOT', 'HOTTER', 'TALL', 'TALLER'), ('HOT', 'HOTTER', 'TIGHT', 'TIGHTER'), ('HOT', 'HOTTER', 'TOUGH', 'TOUGHER'), ('HOT', 'HOTTER', 'WARM', 'WARMER'), ('HOT', 'HOTTER', 'WEAK', 'WEAKER'), ('HOT', 'HOTTER', 'WIDE', 'WIDER'), ('HOT', 'HOTTER', 'YOUNG', 'YOUNGER'), ('HOT', 'HOTTER', 'BAD', 'WORSE'), ('HOT', 'HOTTER', 'BIG', 'BIGGER'), ('HOT', 'HOTTER', 'BRIGHT', 'BRIGHTER'), ('HOT', 'HOTTER', 'CHEAP', 'CHEAPER'), ('HOT', 'HOTTER', 'COLD', 'COLDER'), ('HOT', 'HOTTER', 'COOL', 'COOLER'), ('HOT', 'HOTTER', 'DEEP', 'DEEPER'), ('HOT', 'HOTTER', 'EASY', 'EASIER'), ('HOT', 'HOTTER', 'FAST', 'FASTER'), ('HOT', 'HOTTER', 'GOOD', 'BETTER'), ('HOT', 'HOTTER', 'HARD', 'HARDER'), ('HOT', 'HOTTER', 'HEAVY', 'HEAVIER'), ('HOT', 'HOTTER', 'HIGH', 'HIGHER'), ('LARGE', 'LARGER', 'LONG', 'LONGER'), ('LARGE', 'LARGER', 'LOUD', 'LOUDER'), ('LARGE', 'LARGER', 'LOW', 'LOWER'), ('LARGE', 'LARGER', 'QUICK', 'QUICKER'), ('LARGE', 'LARGER', 'SAFE', 'SAFER'), ('LARGE', 'LARGER', 'SHARP', 'SHARPER'), ('LARGE', 'LARGER', 'SHORT', 'SHORTER'), ('LARGE', 'LARGER', 'SIMPLE', 'SIMPLER'), ('LARGE', 'LARGER', 'SLOW', 'SLOWER'), ('LARGE', 'LARGER', 'SMALL', 'SMALLER'), ('LARGE', 'LARGER', 'SMART', 'SMARTER'), ('LARGE', 'LARGER', 'STRONG', 'STRONGER'), ('LARGE', 'LARGER', 'TALL', 'TALLER'), ('LARGE', 'LARGER', 'TIGHT', 'TIGHTER'), ('LARGE', 'LARGER', 'TOUGH', 'TOUGHER'), ('LARGE', 'LARGER', 'WARM', 'WARMER'), ('LARGE', 'LARGER', 'WEAK', 'WEAKER'), ('LARGE', 'LARGER', 'WIDE', 'WIDER'), ('LARGE', 'LARGER', 'YOUNG', 'YOUNGER'), ('LARGE', 'LARGER', 'BAD', 'WORSE'), ('LARGE', 'LARGER', 'BIG', 'BIGGER'), ('LARGE', 'LARGER', 'BRIGHT', 'BRIGHTER'), ('LARGE', 'LARGER', 'CHEAP', 'CHEAPER'), ('LARGE', 'LARGER', 'COLD', 'COLDER'), ('LARGE', 'LARGER', 'COOL', 'COOLER'), ('LARGE', 'LARGER', 'DEEP', 'DEEPER'), ('LARGE', 'LARGER', 'EASY', 'EASIER'), ('LARGE', 'LARGER', 'FAST', 'FASTER'), ('LARGE', 'LARGER', 'GOOD', 'BETTER'), ('LARGE', 'LARGER', 'HARD', 'HARDER'), ('LARGE', 'LARGER', 'HEAVY', 'HEAVIER'), ('LARGE', 'LARGER', 'HIGH', 'HIGHER'), ('LARGE', 'LARGER', 'HOT', 'HOTTER'), ('LONG', 'LONGER', 'LOUD', 'LOUDER'), ('LONG', 'LONGER', 'LOW', 'LOWER'), ('LONG', 'LONGER', 'NEW', 'NEWER'), ('LONG', 'LONGER', 'QUICK', 'QUICKER'), ('LONG', 'LONGER', 'SAFE', 'SAFER'), ('LONG', 'LONGER', 'SHARP', 'SHARPER'), ('LONG', 'LONGER', 'SHORT', 'SHORTER'), ('LONG', 'LONGER', 'SIMPLE', 'SIMPLER'), ('LONG', 'LONGER', 'SLOW', 'SLOWER'), ('LONG', 'LONGER', 'SMALL', 'SMALLER'), ('LONG', 'LONGER', 'SMART', 'SMARTER'), ('LONG', 'LONGER', 'STRONG', 'STRONGER'), ('LONG', 'LONGER', 'TALL', 'TALLER'), ('LONG', 'LONGER', 'TIGHT', 'TIGHTER'), ('LONG', 'LONGER', 'TOUGH', 'TOUGHER'), ('LONG', 'LONGER', 'WARM', 'WARMER'), ('LONG', 'LONGER', 'WEAK', 'WEAKER'), ('LONG', 'LONGER', 'WIDE', 'WIDER'), ('LONG', 'LONGER', 'YOUNG', 'YOUNGER'), ('LONG', 'LONGER', 'BAD', 'WORSE'), ('LONG', 'LONGER', 'BIG', 'BIGGER'), ('LONG', 'LONGER', 'BRIGHT', 'BRIGHTER'), ('LONG', 'LONGER', 'CHEAP', 'CHEAPER'), ('LONG', 'LONGER', 'COLD', 'COLDER'), ('LONG', 'LONGER', 'COOL', 'COOLER'), ('LONG', 'LONGER', 'DEEP', 'DEEPER'), ('LONG', 'LONGER', 'EASY', 'EASIER'), ('LONG', 'LONGER', 'FAST', 'FASTER'), ('LONG', 'LONGER', 'GOOD', 'BETTER'), ('LONG', 'LONGER', 'HARD', 'HARDER'), ('LONG', 'LONGER', 'HEAVY', 'HEAVIER'), ('LONG', 'LONGER', 'HIGH', 'HIGHER'), ('LONG', 'LONGER', 'HOT', 'HOTTER'), ('LONG', 'LONGER', 'LARGE', 'LARGER'), ('LOUD', 'LOUDER', 'LOW', 'LOWER'), ('LOUD', 'LOUDER', 'QUICK', 'QUICKER'), ('LOUD', 'LOUDER', 'SAFE', 'SAFER'), ('LOUD', 'LOUDER', 'SHARP', 'SHARPER'), ('LOUD', 'LOUDER', 'SHORT', 'SHORTER'), ('LOUD', 'LOUDER', 'SIMPLE', 'SIMPLER'), ('LOUD', 'LOUDER', 'SLOW', 'SLOWER'), ('LOUD', 'LOUDER', 'SMART', 'SMARTER'), ('LOUD', 'LOUDER', 'STRONG', 'STRONGER'), ('LOUD', 'LOUDER', 'TALL', 'TALLER'), ('LOUD', 'LOUDER', 'TIGHT', 'TIGHTER'), ('LOUD', 'LOUDER', 'TOUGH', 'TOUGHER'), ('LOUD', 'LOUDER', 'WARM', 'WARMER'), ('LOUD', 'LOUDER', 'WEAK', 'WEAKER'), ('LOUD', 'LOUDER', 'WIDE', 'WIDER'), ('LOUD', 'LOUDER', 'YOUNG', 'YOUNGER'), ('LOUD', 'LOUDER', 'BAD', 'WORSE'), ('LOUD', 'LOUDER', 'BIG', 'BIGGER'), ('LOUD', 'LOUDER', 'BRIGHT', 'BRIGHTER'), ('LOUD', 'LOUDER', 'CHEAP', 'CHEAPER'), ('LOUD', 'LOUDER', 'COLD', 'COLDER'), ('LOUD', 'LOUDER', 'COOL', 'COOLER'), ('LOUD', 'LOUDER', 'DEEP', 'DEEPER'), ('LOUD', 'LOUDER', 'EASY', 'EASIER'), ('LOUD', 'LOUDER', 'FAST', 'FASTER'), ('LOUD', 'LOUDER', 'GOOD', 'BETTER'), ('LOUD', 'LOUDER', 'HARD', 'HARDER'), ('LOUD', 'LOUDER', 'HEAVY', 'HEAVIER'), ('LOUD', 'LOUDER', 'HIGH', 'HIGHER'), ('LOUD', 'LOUDER', 'HOT', 'HOTTER'), ('LOUD', 'LOUDER', 'LARGE', 'LARGER'), ('LOUD', 'LOUDER', 'LONG', 'LONGER'), ('LOW', 'LOWER', 'QUICK', 'QUICKER'), ('LOW', 'LOWER', 'SAFE', 'SAFER'), ('LOW', 'LOWER', 'SHARP', 'SHARPER'), ('LOW', 'LOWER', 'SHORT', 'SHORTER'), ('LOW', 'LOWER', 'SIMPLE', 'SIMPLER'), ('LOW', 'LOWER', 'SLOW', 'SLOWER'), ('LOW', 'LOWER', 'SMALL', 'SMALLER'), ('LOW', 'LOWER', 'SMART', 'SMARTER'), ('LOW', 'LOWER', 'STRONG', 'STRONGER'), ('LOW', 'LOWER', 'TALL', 'TALLER'), ('LOW', 'LOWER', 'TIGHT', 'TIGHTER'), ('LOW', 'LOWER', 'TOUGH', 'TOUGHER'), ('LOW', 'LOWER', 'WARM', 'WARMER'), ('LOW', 'LOWER', 'WEAK', 'WEAKER'), ('LOW', 'LOWER', 'WIDE', 'WIDER'), ('LOW', 'LOWER', 'YOUNG', 'YOUNGER'), ('LOW', 'LOWER', 'BAD', 'WORSE'), ('LOW', 'LOWER', 'BIG', 'BIGGER'), ('LOW', 'LOWER', 'BRIGHT', 'BRIGHTER'), ('LOW', 'LOWER', 'CHEAP', 'CHEAPER'), ('LOW', 'LOWER', 'COLD', 'COLDER'), ('LOW', 'LOWER', 'COOL', 'COOLER'), ('LOW', 'LOWER', 'DEEP', 'DEEPER'), ('LOW', 'LOWER', 'EASY', 'EASIER'), ('LOW', 'LOWER', 'FAST', 'FASTER'), ('LOW', 'LOWER', 'GOOD', 'BETTER'), ('LOW', 'LOWER', 'HARD', 'HARDER'), ('LOW', 'LOWER', 'HEAVY', 'HEAVIER'), ('LOW', 'LOWER', 'HIGH', 'HIGHER'), ('LOW', 'LOWER', 'HOT', 'HOTTER'), ('LOW', 'LOWER', 'LARGE', 'LARGER'), ('LOW', 'LOWER', 'LONG', 'LONGER'), ('LOW', 'LOWER', 'LOUD', 'LOUDER'), ('NEW', 'NEWER', 'OLD', 'OLDER'), ('NEW', 'NEWER', 'QUICK', 'QUICKER'), ('NEW', 'NEWER', 'SAFE', 'SAFER'), ('NEW', 'NEWER', 'SHARP', 'SHARPER'), ('NEW', 'NEWER', 'SHORT', 'SHORTER'), ('NEW', 'NEWER', 'SLOW', 'SLOWER'), ('NEW', 'NEWER', 'SMALL', 'SMALLER'), ('NEW', 'NEWER', 'SMART', 'SMARTER'), ('NEW', 'NEWER', 'STRONG', 'STRONGER'), ('NEW', 'NEWER', 'TALL', 'TALLER'), ('NEW', 'NEWER', 'TIGHT', 'TIGHTER'), ('NEW', 'NEWER', 'TOUGH', 'TOUGHER'), ('NEW', 'NEWER', 'WARM', 'WARMER'), ('NEW', 'NEWER', 'WEAK', 'WEAKER'), ('NEW', 'NEWER', 'WIDE', 'WIDER'), ('NEW', 'NEWER', 'YOUNG', 'YOUNGER'), ('NEW', 'NEWER', 'BIG', 'BIGGER'), ('NEW', 'NEWER', 'BRIGHT', 'BRIGHTER'), ('NEW', 'NEWER', 'CHEAP', 'CHEAPER'), ('NEW', 'NEWER', 'COLD', 'COLDER'), ('NEW', 'NEWER', 'COOL', 'COOLER'), ('NEW', 'NEWER', 'DEEP', 'DEEPER'), ('NEW', 'NEWER', 'EASY', 'EASIER'), ('NEW', 'NEWER', 'FAST', 'FASTER'), ('NEW', 'NEWER', 'HARD', 'HARDER'), ('NEW', 'NEWER', 'HEAVY', 'HEAVIER'), ('NEW', 'NEWER', 'HOT', 'HOTTER'), ('NEW', 'NEWER', 'LONG', 'LONGER'), ('NEW', 'NEWER', 'LOUD', 'LOUDER'), ('OLD', 'OLDER', 'QUICK', 'QUICKER'), ('OLD', 'OLDER', 'SAFE', 'SAFER'), ('OLD', 'OLDER', 'SHARP', 'SHARPER'), ('OLD', 'OLDER', 'SHORT', 'SHORTER'), ('OLD', 'OLDER', 'SLOW', 'SLOWER'), ('OLD', 'OLDER', 'SMALL', 'SMALLER'), ('OLD', 'OLDER', 'SMART', 'SMARTER'), ('OLD', 'OLDER', 'STRONG', 'STRONGER'), ('OLD', 'OLDER', 'TALL', 'TALLER'), ('OLD', 'OLDER', 'TIGHT', 'TIGHTER'), ('OLD', 'OLDER', 'TOUGH', 'TOUGHER'), ('OLD', 'OLDER', 'WARM', 'WARMER'), ('OLD', 'OLDER', 'WEAK', 'WEAKER'), ('OLD', 'OLDER', 'WIDE', 'WIDER'), ('OLD', 'OLDER', 'YOUNG', 'YOUNGER'), ('OLD', 'OLDER', 'BIG', 'BIGGER'), ('OLD', 'OLDER', 'BRIGHT', 'BRIGHTER'), ('OLD', 'OLDER', 'CHEAP', 'CHEAPER'), ('OLD', 'OLDER', 'COLD', 'COLDER'), ('OLD', 'OLDER', 'COOL', 'COOLER'), ('OLD', 'OLDER', 'DEEP', 'DEEPER'), ('OLD', 'OLDER', 'EASY', 'EASIER'), ('OLD', 'OLDER', 'FAST', 'FASTER'), ('OLD', 'OLDER', 'GOOD', 'BETTER'), ('OLD', 'OLDER', 'HARD', 'HARDER'), ('OLD', 'OLDER', 'HEAVY', 'HEAVIER'), ('OLD', 'OLDER', 'HIGH', 'HIGHER'), ('OLD', 'OLDER', 'HOT', 'HOTTER'), ('OLD', 'OLDER', 'LARGE', 'LARGER'), ('OLD', 'OLDER', 'LONG', 'LONGER'), ('OLD', 'OLDER', 'LOUD', 'LOUDER'), ('OLD', 'OLDER', 'LOW', 'LOWER'), ('OLD', 'OLDER', 'NEW', 'NEWER'), ('QUICK', 'QUICKER', 'SAFE', 'SAFER'), ('QUICK', 'QUICKER', 'SHARP', 'SHARPER'), ('QUICK', 'QUICKER', 'SHORT', 'SHORTER'), ('QUICK', 'QUICKER', 'SIMPLE', 'SIMPLER'), ('QUICK', 'QUICKER', 'SLOW', 'SLOWER'), ('QUICK', 'QUICKER', 'SMALL', 'SMALLER'), ('QUICK', 'QUICKER', 'SMART', 'SMARTER'), ('QUICK', 'QUICKER', 'STRONG', 'STRONGER'), ('QUICK', 'QUICKER', 'TALL', 'TALLER'), ('QUICK', 'QUICKER', 'TIGHT', 'TIGHTER'), ('QUICK', 'QUICKER', 'TOUGH', 'TOUGHER'), ('QUICK', 'QUICKER', 'WARM', 'WARMER'), ('QUICK', 'QUICKER', 'WEAK', 'WEAKER'), ('QUICK', 'QUICKER', 'WIDE', 'WIDER'), ('QUICK', 'QUICKER', 'YOUNG', 'YOUNGER'), ('QUICK', 'QUICKER', 'BAD', 'WORSE'), ('QUICK', 'QUICKER', 'BIG', 'BIGGER'), ('QUICK', 'QUICKER', 'BRIGHT', 'BRIGHTER'), ('QUICK', 'QUICKER', 'CHEAP', 'CHEAPER'), ('QUICK', 'QUICKER', 'COLD', 'COLDER'), ('QUICK', 'QUICKER', 'COOL', 'COOLER'), ('QUICK', 'QUICKER', 'DEEP', 'DEEPER'), ('QUICK', 'QUICKER', 'EASY', 'EASIER'), ('QUICK', 'QUICKER', 'FAST', 'FASTER'), ('QUICK', 'QUICKER', 'GOOD', 'BETTER'), ('QUICK', 'QUICKER', 'HARD', 'HARDER'), ('QUICK', 'QUICKER', 'HEAVY', 'HEAVIER'), ('QUICK', 'QUICKER', 'HIGH', 'HIGHER'), ('QUICK', 'QUICKER', 'HOT', 'HOTTER'), ('QUICK', 'QUICKER', 'LARGE', 'LARGER'), ('QUICK', 'QUICKER', 'LONG', 'LONGER'), ('QUICK', 'QUICKER', 'LOUD', 'LOUDER'), ('QUICK', 'QUICKER', 'LOW', 'LOWER'), ('QUICK', 'QUICKER', 'NEW', 'NEWER'), ('QUICK', 'QUICKER', 'OLD', 'OLDER'), ('SAFE', 'SAFER', 'SHARP', 'SHARPER'), ('SAFE', 'SAFER', 'SHORT', 'SHORTER'), ('SAFE', 'SAFER', 'SIMPLE', 'SIMPLER'), ('SAFE', 'SAFER', 'SLOW', 'SLOWER'), ('SAFE', 'SAFER', 'SMALL', 'SMALLER'), ('SAFE', 'SAFER', 'SMART', 'SMARTER'), ('SAFE', 'SAFER', 'STRONG', 'STRONGER'), ('SAFE', 'SAFER', 'TALL', 'TALLER'), ('SAFE', 'SAFER', 'TIGHT', 'TIGHTER'), ('SAFE', 'SAFER', 'TOUGH', 'TOUGHER'), ('SAFE', 'SAFER', 'WARM', 'WARMER'), ('SAFE', 'SAFER', 'WEAK', 'WEAKER'), ('SAFE', 'SAFER', 'WIDE', 'WIDER'), ('SAFE', 'SAFER', 'YOUNG', 'YOUNGER'), ('SAFE', 'SAFER', 'BAD', 'WORSE'), ('SAFE', 'SAFER', 'BIG', 'BIGGER'), ('SAFE', 'SAFER', 'BRIGHT', 'BRIGHTER'), ('SAFE', 'SAFER', 'CHEAP', 'CHEAPER'), ('SAFE', 'SAFER', 'COLD', 'COLDER'), ('SAFE', 'SAFER', 'COOL', 'COOLER'), ('SAFE', 'SAFER', 'DEEP', 'DEEPER'), ('SAFE', 'SAFER', 'EASY', 'EASIER'), ('SAFE', 'SAFER', 'FAST', 'FASTER'), ('SAFE', 'SAFER', 'GOOD', 'BETTER'), ('SAFE', 'SAFER', 'HARD', 'HARDER'), ('SAFE', 'SAFER', 'HEAVY', 'HEAVIER'), ('SAFE', 'SAFER', 'HIGH', 'HIGHER'), ('SAFE', 'SAFER', 'HOT', 'HOTTER'), ('SAFE', 'SAFER', 'LARGE', 'LARGER'), ('SAFE', 'SAFER', 'LOUD', 'LOUDER'), ('SAFE', 'SAFER', 'LOW', 'LOWER'), ('SAFE', 'SAFER', 'QUICK', 'QUICKER'), ('SHARP', 'SHARPER', 'SHORT', 'SHORTER'), ('SHARP', 'SHARPER', 'SIMPLE', 'SIMPLER'), ('SHARP', 'SHARPER', 'SLOW', 'SLOWER'), ('SHARP', 'SHARPER', 'SMALL', 'SMALLER'), ('SHARP', 'SHARPER', 'SMART', 'SMARTER'), ('SHARP', 'SHARPER', 'STRONG', 'STRONGER'), ('SHARP', 'SHARPER', 'TALL', 'TALLER'), ('SHARP', 'SHARPER', 'TIGHT', 'TIGHTER'), ('SHARP', 'SHARPER', 'TOUGH', 'TOUGHER'), ('SHARP', 'SHARPER', 'WARM', 'WARMER'), ('SHARP', 'SHARPER', 'WEAK', 'WEAKER'), ('SHARP', 'SHARPER', 'WIDE', 'WIDER'), ('SHARP', 'SHARPER', 'YOUNG', 'YOUNGER'), ('SHARP', 'SHARPER', 'BAD', 'WORSE'), ('SHARP', 'SHARPER', 'BIG', 'BIGGER'), ('SHARP', 'SHARPER', 'BRIGHT', 'BRIGHTER'), ('SHARP', 'SHARPER', 'CHEAP', 'CHEAPER'), ('SHARP', 'SHARPER', 'COLD', 'COLDER'), ('SHARP', 'SHARPER', 'COOL', 'COOLER'), ('SHARP', 'SHARPER', 'DEEP', 'DEEPER'), ('SHARP', 'SHARPER', 'EASY', 'EASIER'), ('SHARP', 'SHARPER', 'FAST', 'FASTER'), ('SHARP', 'SHARPER', 'GOOD', 'BETTER'), ('SHARP', 'SHARPER', 'HARD', 'HARDER'), ('SHARP', 'SHARPER', 'HEAVY', 'HEAVIER'), ('SHARP', 'SHARPER', 'HIGH', 'HIGHER'), ('SHARP', 'SHARPER', 'HOT', 'HOTTER'), ('SHARP', 'SHARPER', 'LARGE', 'LARGER'), ('SHARP', 'SHARPER', 'LONG', 'LONGER'), ('SHARP', 'SHARPER', 'LOUD', 'LOUDER'), ('SHARP', 'SHARPER', 'LOW', 'LOWER'), ('SHARP', 'SHARPER', 'QUICK', 'QUICKER'), ('SHARP', 'SHARPER', 'SAFE', 'SAFER'), ('SHORT', 'SHORTER', 'SIMPLE', 'SIMPLER'), ('SHORT', 'SHORTER', 'SLOW', 'SLOWER'), ('SHORT', 'SHORTER', 'SMALL', 'SMALLER'), ('SHORT', 'SHORTER', 'SMART', 'SMARTER'), ('SHORT', 'SHORTER', 'STRONG', 'STRONGER'), ('SHORT', 'SHORTER', 'TALL', 'TALLER'), ('SHORT', 'SHORTER', 'TIGHT', 'TIGHTER'), ('SHORT', 'SHORTER', 'TOUGH', 'TOUGHER'), ('SHORT', 'SHORTER', 'WARM', 'WARMER'), ('SHORT', 'SHORTER', 'WEAK', 'WEAKER'), ('SHORT', 'SHORTER', 'WIDE', 'WIDER'), ('SHORT', 'SHORTER', 'YOUNG', 'YOUNGER'), ('SHORT', 'SHORTER', 'BIG', 'BIGGER'), ('SHORT', 'SHORTER', 'BRIGHT', 'BRIGHTER'), ('SHORT', 'SHORTER', 'CHEAP', 'CHEAPER'), ('SHORT', 'SHORTER', 'COLD', 'COLDER'), ('SHORT', 'SHORTER', 'COOL', 'COOLER'), ('SHORT', 'SHORTER', 'DEEP', 'DEEPER'), ('SHORT', 'SHORTER', 'EASY', 'EASIER'), ('SHORT', 'SHORTER', 'FAST', 'FASTER'), ('SHORT', 'SHORTER', 'GOOD', 'BETTER'), ('SHORT', 'SHORTER', 'HARD', 'HARDER'), ('SHORT', 'SHORTER', 'HEAVY', 'HEAVIER'), ('SHORT', 'SHORTER', 'HIGH', 'HIGHER'), ('SHORT', 'SHORTER', 'HOT', 'HOTTER'), ('SHORT', 'SHORTER', 'LARGE', 'LARGER'), ('SHORT', 'SHORTER', 'LONG', 'LONGER'), ('SHORT', 'SHORTER', 'LOUD', 'LOUDER'), ('SHORT', 'SHORTER', 'LOW', 'LOWER'), ('SHORT', 'SHORTER', 'NEW', 'NEWER'), ('SHORT', 'SHORTER', 'QUICK', 'QUICKER'), ('SHORT', 'SHORTER', 'SAFE', 'SAFER'), ('SHORT', 'SHORTER', 'SHARP', 'SHARPER'), ('SIMPLE', 'SIMPLER', 'SLOW', 'SLOWER'), ('SIMPLE', 'SIMPLER', 'SMALL', 'SMALLER'), ('SIMPLE', 'SIMPLER', 'SMART', 'SMARTER'), ('SIMPLE', 'SIMPLER', 'STRONG', 'STRONGER'), ('SIMPLE', 'SIMPLER', 'TALL', 'TALLER'), ('SIMPLE', 'SIMPLER', 'TIGHT', 'TIGHTER'), ('SIMPLE', 'SIMPLER', 'TOUGH', 'TOUGHER'), ('SIMPLE', 'SIMPLER', 'WARM', 'WARMER'), ('SIMPLE', 'SIMPLER', 'WEAK', 'WEAKER'), ('SIMPLE', 'SIMPLER', 'WIDE', 'WIDER'), ('SIMPLE', 'SIMPLER', 'YOUNG', 'YOUNGER'), ('SIMPLE', 'SIMPLER', 'BIG', 'BIGGER'), ('SIMPLE', 'SIMPLER', 'BRIGHT', 'BRIGHTER'), ('SIMPLE', 'SIMPLER', 'CHEAP', 'CHEAPER'), ('SIMPLE', 'SIMPLER', 'COLD', 'COLDER'), ('SIMPLE', 'SIMPLER', 'COOL', 'COOLER'), ('SIMPLE', 'SIMPLER', 'DEEP', 'DEEPER'), ('SIMPLE', 'SIMPLER', 'EASY', 'EASIER'), ('SIMPLE', 'SIMPLER', 'FAST', 'FASTER'), ('SIMPLE', 'SIMPLER', 'GOOD', 'BETTER'), ('SIMPLE', 'SIMPLER', 'HARD', 'HARDER'), ('SIMPLE', 'SIMPLER', 'HEAVY', 'HEAVIER'), ('SIMPLE', 'SIMPLER', 'HIGH', 'HIGHER'), ('SIMPLE', 'SIMPLER', 'HOT', 'HOTTER'), ('SIMPLE', 'SIMPLER', 'LARGE', 'LARGER'), ('SIMPLE', 'SIMPLER', 'LOUD', 'LOUDER'), ('SIMPLE', 'SIMPLER', 'LOW', 'LOWER'), ('SIMPLE', 'SIMPLER', 'QUICK', 'QUICKER'), ('SIMPLE', 'SIMPLER', 'SAFE', 'SAFER'), ('SIMPLE', 'SIMPLER', 'SHARP', 'SHARPER'), ('SIMPLE', 'SIMPLER', 'SHORT', 'SHORTER'), ('SLOW', 'SLOWER', 'SMALL', 'SMALLER'), ('SLOW', 'SLOWER', 'SMART', 'SMARTER'), ('SLOW', 'SLOWER', 'STRONG', 'STRONGER'), ('SLOW', 'SLOWER', 'TALL', 'TALLER'), ('SLOW', 'SLOWER', 'TIGHT', 'TIGHTER'), ('SLOW', 'SLOWER', 'TOUGH', 'TOUGHER'), ('SLOW', 'SLOWER', 'WARM', 'WARMER'), ('SLOW', 'SLOWER', 'WEAK', 'WEAKER'), ('SLOW', 'SLOWER', 'WIDE', 'WIDER'), ('SLOW', 'SLOWER', 'YOUNG', 'YOUNGER'), ('SLOW', 'SLOWER', 'BIG', 'BIGGER'), ('SLOW', 'SLOWER', 'BRIGHT', 'BRIGHTER'), ('SLOW', 'SLOWER', 'CHEAP', 'CHEAPER'), ('SLOW', 'SLOWER', 'COLD', 'COLDER'), ('SLOW', 'SLOWER', 'COOL', 'COOLER'), ('SLOW', 'SLOWER', 'DEEP', 'DEEPER'), ('SLOW', 'SLOWER', 'EASY', 'EASIER'), ('SLOW', 'SLOWER', 'FAST', 'FASTER'), ('SLOW', 'SLOWER', 'GOOD', 'BETTER'), ('SLOW', 'SLOWER', 'HARD', 'HARDER'), ('SLOW', 'SLOWER', 'HEAVY', 'HEAVIER'), ('SLOW', 'SLOWER', 'HIGH', 'HIGHER'), ('SLOW', 'SLOWER', 'HOT', 'HOTTER'), ('SLOW', 'SLOWER', 'LARGE', 'LARGER'), ('SLOW', 'SLOWER', 'LONG', 'LONGER'), ('SLOW', 'SLOWER', 'LOUD', 'LOUDER'), ('SLOW', 'SLOWER', 'LOW', 'LOWER'), ('SLOW', 'SLOWER', 'NEW', 'NEWER'), ('SLOW', 'SLOWER', 'QUICK', 'QUICKER'), ('SLOW', 'SLOWER', 'SAFE', 'SAFER'), ('SLOW', 'SLOWER', 'SHARP', 'SHARPER'), ('SLOW', 'SLOWER', 'SHORT', 'SHORTER'), ('SLOW', 'SLOWER', 'SIMPLE', 'SIMPLER'), ('SMALL', 'SMALLER', 'SMART', 'SMARTER'), ('SMALL', 'SMALLER', 'STRONG', 'STRONGER'), ('SMALL', 'SMALLER', 'TALL', 'TALLER'), ('SMALL', 'SMALLER', 'TIGHT', 'TIGHTER'), ('SMALL', 'SMALLER', 'TOUGH', 'TOUGHER'), ('SMALL', 'SMALLER', 'WARM', 'WARMER'), ('SMALL', 'SMALLER', 'WEAK', 'WEAKER'), ('SMALL', 'SMALLER', 'WIDE', 'WIDER'), ('SMALL', 'SMALLER', 'YOUNG', 'YOUNGER'), ('SMALL', 'SMALLER', 'BAD', 'WORSE'), ('SMALL', 'SMALLER', 'BIG', 'BIGGER'), ('SMALL', 'SMALLER', 'BRIGHT', 'BRIGHTER'), ('SMALL', 'SMALLER', 'CHEAP', 'CHEAPER'), ('SMALL', 'SMALLER', 'COLD', 'COLDER'), ('SMALL', 'SMALLER', 'COOL', 'COOLER'), ('SMALL', 'SMALLER', 'DEEP', 'DEEPER'), ('SMALL', 'SMALLER', 'EASY', 'EASIER'), ('SMALL', 'SMALLER', 'FAST', 'FASTER'), ('SMALL', 'SMALLER', 'GOOD', 'BETTER'), ('SMALL', 'SMALLER', 'HARD', 'HARDER'), ('SMALL', 'SMALLER', 'HEAVY', 'HEAVIER'), ('SMALL', 'SMALLER', 'HIGH', 'HIGHER'), ('SMALL', 'SMALLER', 'HOT', 'HOTTER'), ('SMALL', 'SMALLER', 'LARGE', 'LARGER'), ('SMALL', 'SMALLER', 'LOUD', 'LOUDER'), ('SMALL', 'SMALLER', 'LOW', 'LOWER'), ('SMALL', 'SMALLER', 'NEW', 'NEWER'), ('SMALL', 'SMALLER', 'QUICK', 'QUICKER'), ('SMALL', 'SMALLER', 'SAFE', 'SAFER'), ('SMALL', 'SMALLER', 'SHARP', 'SHARPER'), ('SMALL', 'SMALLER', 'SHORT', 'SHORTER'), ('SMALL', 'SMALLER', 'SIMPLE', 'SIMPLER'), ('SMALL', 'SMALLER', 'SLOW', 'SLOWER'), ('SMART', 'SMARTER', 'STRONG', 'STRONGER'), ('SMART', 'SMARTER', 'TALL', 'TALLER'), ('SMART', 'SMARTER', 'TIGHT', 'TIGHTER'), ('SMART', 'SMARTER', 'TOUGH', 'TOUGHER'), ('SMART', 'SMARTER', 'WARM', 'WARMER'), ('SMART', 'SMARTER', 'WEAK', 'WEAKER'), ('SMART', 'SMARTER', 'WIDE', 'WIDER'), ('SMART', 'SMARTER', 'YOUNG', 'YOUNGER'), ('SMART', 'SMARTER', 'BAD', 'WORSE'), ('SMART', 'SMARTER', 'BIG', 'BIGGER'), ('SMART', 'SMARTER', 'BRIGHT', 'BRIGHTER'), ('SMART', 'SMARTER', 'CHEAP', 'CHEAPER'), ('SMART', 'SMARTER', 'COLD', 'COLDER'), ('SMART', 'SMARTER', 'COOL', 'COOLER'), ('SMART', 'SMARTER', 'DEEP', 'DEEPER'), ('SMART', 'SMARTER', 'EASY', 'EASIER'), ('SMART', 'SMARTER', 'FAST', 'FASTER'), ('SMART', 'SMARTER', 'GOOD', 'BETTER'), ('SMART', 'SMARTER', 'HARD', 'HARDER'), ('SMART', 'SMARTER', 'HEAVY', 'HEAVIER'), ('SMART', 'SMARTER', 'HIGH', 'HIGHER'), ('SMART', 'SMARTER', 'HOT', 'HOTTER'), ('SMART', 'SMARTER', 'LARGE', 'LARGER'), ('SMART', 'SMARTER', 'LONG', 'LONGER'), ('SMART', 'SMARTER', 'LOUD', 'LOUDER'), ('SMART', 'SMARTER', 'LOW', 'LOWER'), ('SMART', 'SMARTER', 'QUICK', 'QUICKER'), ('SMART', 'SMARTER', 'SAFE', 'SAFER'), ('SMART', 'SMARTER', 'SHARP', 'SHARPER'), ('SMART', 'SMARTER', 'SHORT', 'SHORTER'), ('SMART', 'SMARTER', 'SIMPLE', 'SIMPLER'), ('SMART', 'SMARTER', 'SLOW', 'SLOWER'), ('SMART', 'SMARTER', 'SMALL', 'SMALLER'), ('STRONG', 'STRONGER', 'TALL', 'TALLER'), ('STRONG', 'STRONGER', 'TIGHT', 'TIGHTER'), ('STRONG', 'STRONGER', 'TOUGH', 'TOUGHER'), ('STRONG', 'STRONGER', 'WARM', 'WARMER'), ('STRONG', 'STRONGER', 'WEAK', 'WEAKER'), ('STRONG', 'STRONGER', 'WIDE', 'WIDER'), ('STRONG', 'STRONGER', 'YOUNG', 'YOUNGER'), ('STRONG', 'STRONGER', 'BAD', 'WORSE'), ('STRONG', 'STRONGER', 'BIG', 'BIGGER'), ('STRONG', 'STRONGER', 'BRIGHT', 'BRIGHTER'), ('STRONG', 'STRONGER', 'CHEAP', 'CHEAPER'), ('STRONG', 'STRONGER', 'COLD', 'COLDER'), ('STRONG', 'STRONGER', 'COOL', 'COOLER'), ('STRONG', 'STRONGER', 'DEEP', 'DEEPER'), ('STRONG', 'STRONGER', 'EASY', 'EASIER'), ('STRONG', 'STRONGER', 'FAST', 'FASTER'), ('STRONG', 'STRONGER', 'GOOD', 'BETTER'), ('STRONG', 'STRONGER', 'HARD', 'HARDER'), ('STRONG', 'STRONGER', 'HEAVY', 'HEAVIER'), ('STRONG', 'STRONGER', 'HIGH', 'HIGHER'), ('STRONG', 'STRONGER', 'HOT', 'HOTTER'), ('STRONG', 'STRONGER', 'LARGE', 'LARGER'), ('STRONG', 'STRONGER', 'LONG', 'LONGER'), ('STRONG', 'STRONGER', 'LOUD', 'LOUDER'), ('STRONG', 'STRONGER', 'LOW', 'LOWER'), ('STRONG', 'STRONGER', 'QUICK', 'QUICKER'), ('STRONG', 'STRONGER', 'SAFE', 'SAFER'), ('STRONG', 'STRONGER', 'SHARP', 'SHARPER'), ('STRONG', 'STRONGER', 'SHORT', 'SHORTER'), ('STRONG', 'STRONGER', 'SIMPLE', 'SIMPLER'), ('STRONG', 'STRONGER', 'SLOW', 'SLOWER'), ('STRONG', 'STRONGER', 'SMALL', 'SMALLER'), ('STRONG', 'STRONGER', 'SMART', 'SMARTER'), ('TALL', 'TALLER', 'TIGHT', 'TIGHTER'), ('TALL', 'TALLER', 'TOUGH', 'TOUGHER'), ('TALL', 'TALLER', 'WARM', 'WARMER'), ('TALL', 'TALLER', 'WEAK', 'WEAKER'), ('TALL', 'TALLER', 'WIDE', 'WIDER'), ('TALL', 'TALLER', 'YOUNG', 'YOUNGER'), ('TALL', 'TALLER', 'BAD', 'WORSE'), ('TALL', 'TALLER', 'BIG', 'BIGGER'), ('TALL', 'TALLER', 'BRIGHT', 'BRIGHTER'), ('TALL', 'TALLER', 'CHEAP', 'CHEAPER'), ('TALL', 'TALLER', 'COLD', 'COLDER'), ('TALL', 'TALLER', 'COOL', 'COOLER'), ('TALL', 'TALLER', 'DEEP', 'DEEPER'), ('TALL', 'TALLER', 'EASY', 'EASIER'), ('TALL', 'TALLER', 'FAST', 'FASTER'), ('TALL', 'TALLER', 'GOOD', 'BETTER'), ('TALL', 'TALLER', 'HARD', 'HARDER'), ('TALL', 'TALLER', 'HEAVY', 'HEAVIER'), ('TALL', 'TALLER', 'HIGH', 'HIGHER'), ('TALL', 'TALLER', 'HOT', 'HOTTER'), ('TALL', 'TALLER', 'LARGE', 'LARGER'), ('TALL', 'TALLER', 'LONG', 'LONGER'), ('TALL', 'TALLER', 'LOUD', 'LOUDER'), ('TALL', 'TALLER', 'LOW', 'LOWER'), ('TALL', 'TALLER', 'NEW', 'NEWER'), ('TALL', 'TALLER', 'QUICK', 'QUICKER'), ('TALL', 'TALLER', 'SAFE', 'SAFER'), ('TALL', 'TALLER', 'SHARP', 'SHARPER'), ('TALL', 'TALLER', 'SHORT', 'SHORTER'), ('TALL', 'TALLER', 'SIMPLE', 'SIMPLER'), ('TALL', 'TALLER', 'SLOW', 'SLOWER'), ('TALL', 'TALLER', 'SMALL', 'SMALLER'), ('TALL', 'TALLER', 'SMART', 'SMARTER'), ('TALL', 'TALLER', 'STRONG', 'STRONGER'), ('TIGHT', 'TIGHTER', 'TOUGH', 'TOUGHER'), ('TIGHT', 'TIGHTER', 'WARM', 'WARMER'), ('TIGHT', 'TIGHTER', 'WEAK', 'WEAKER'), ('TIGHT', 'TIGHTER', 'WIDE', 'WIDER'), ('TIGHT', 'TIGHTER', 'YOUNG', 'YOUNGER'), ('TIGHT', 'TIGHTER', 'BAD', 'WORSE'), ('TIGHT', 'TIGHTER', 'BIG', 'BIGGER'), ('TIGHT', 'TIGHTER', 'BRIGHT', 'BRIGHTER'), ('TIGHT', 'TIGHTER', 'CHEAP', 'CHEAPER'), ('TIGHT', 'TIGHTER', 'COLD', 'COLDER'), ('TIGHT', 'TIGHTER', 'COOL', 'COOLER'), ('TIGHT', 'TIGHTER', 'DEEP', 'DEEPER'), ('TIGHT', 'TIGHTER', 'EASY', 'EASIER'), ('TIGHT', 'TIGHTER', 'FAST', 'FASTER'), ('TIGHT', 'TIGHTER', 'GOOD', 'BETTER'), ('TIGHT', 'TIGHTER', 'HARD', 'HARDER'), ('TIGHT', 'TIGHTER', 'HEAVY', 'HEAVIER'), ('TIGHT', 'TIGHTER', 'HIGH', 'HIGHER'), ('TIGHT', 'TIGHTER', 'HOT', 'HOTTER'), ('TIGHT', 'TIGHTER', 'LARGE', 'LARGER'), ('TIGHT', 'TIGHTER', 'LONG', 'LONGER'), ('TIGHT', 'TIGHTER', 'LOUD', 'LOUDER'), ('TIGHT', 'TIGHTER', 'QUICK', 'QUICKER'), ('TIGHT', 'TIGHTER', 'SAFE', 'SAFER'), ('TIGHT', 'TIGHTER', 'SHARP', 'SHARPER'), ('TIGHT', 'TIGHTER', 'SHORT', 'SHORTER'), ('TIGHT', 'TIGHTER', 'SIMPLE', 'SIMPLER'), ('TIGHT', 'TIGHTER', 'SLOW', 'SLOWER'), ('TIGHT', 'TIGHTER', 'SMALL', 'SMALLER'), ('TIGHT', 'TIGHTER', 'SMART', 'SMARTER'), ('TIGHT', 'TIGHTER', 'STRONG', 'STRONGER'), ('TIGHT', 'TIGHTER', 'TALL', 'TALLER'), ('TOUGH', 'TOUGHER', 'WARM', 'WARMER'), ('TOUGH', 'TOUGHER', 'WEAK', 'WEAKER'), ('TOUGH', 'TOUGHER', 'WIDE', 'WIDER'), ('TOUGH', 'TOUGHER', 'YOUNG', 'YOUNGER'), ('TOUGH', 'TOUGHER', 'BAD', 'WORSE'), ('TOUGH', 'TOUGHER', 'BIG', 'BIGGER'), ('TOUGH', 'TOUGHER', 'BRIGHT', 'BRIGHTER'), ('TOUGH', 'TOUGHER', 'CHEAP', 'CHEAPER'), ('TOUGH', 'TOUGHER', 'COLD', 'COLDER'), ('TOUGH', 'TOUGHER', 'COOL', 'COOLER'), ('TOUGH', 'TOUGHER', 'DEEP', 'DEEPER'), ('TOUGH', 'TOUGHER', 'EASY', 'EASIER'), ('TOUGH', 'TOUGHER', 'FAST', 'FASTER'), ('TOUGH', 'TOUGHER', 'GOOD', 'BETTER'), ('TOUGH', 'TOUGHER', 'GREAT', 'GREATER'), ('TOUGH', 'TOUGHER', 'HARD', 'HARDER'), ('TOUGH', 'TOUGHER', 'HEAVY', 'HEAVIER'), ('TOUGH', 'TOUGHER', 'HIGH', 'HIGHER'), ('TOUGH', 'TOUGHER', 'HOT', 'HOTTER'), ('TOUGH', 'TOUGHER', 'LARGE', 'LARGER'), ('TOUGH', 'TOUGHER', 'LONG', 'LONGER'), ('TOUGH', 'TOUGHER', 'LOUD', 'LOUDER'), ('TOUGH', 'TOUGHER', 'LOW', 'LOWER'), ('TOUGH', 'TOUGHER', 'QUICK', 'QUICKER'), ('TOUGH', 'TOUGHER', 'SAFE', 'SAFER'), ('TOUGH', 'TOUGHER', 'SHARP', 'SHARPER'), ('TOUGH', 'TOUGHER', 'SHORT', 'SHORTER'), ('TOUGH', 'TOUGHER', 'SIMPLE', 'SIMPLER'), ('TOUGH', 'TOUGHER', 'SLOW', 'SLOWER'), ('TOUGH', 'TOUGHER', 'SMALL', 'SMALLER'), ('TOUGH', 'TOUGHER', 'SMART', 'SMARTER'), ('TOUGH', 'TOUGHER', 'STRONG', 'STRONGER'), ('TOUGH', 'TOUGHER', 'TALL', 'TALLER'), ('TOUGH', 'TOUGHER', 'TIGHT', 'TIGHTER'), ('WARM', 'WARMER', 'WEAK', 'WEAKER'), ('WARM', 'WARMER', 'WIDE', 'WIDER'), ('WARM', 'WARMER', 'YOUNG', 'YOUNGER'), ('WARM', 'WARMER', 'BAD', 'WORSE'), ('WARM', 'WARMER', 'BIG', 'BIGGER'), ('WARM', 'WARMER', 'BRIGHT', 'BRIGHTER'), ('WARM', 'WARMER', 'CHEAP', 'CHEAPER'), ('WARM', 'WARMER', 'COLD', 'COLDER'), ('WARM', 'WARMER', 'COOL', 'COOLER'), ('WARM', 'WARMER', 'DEEP', 'DEEPER'), ('WARM', 'WARMER', 'EASY', 'EASIER'), ('WARM', 'WARMER', 'FAST', 'FASTER'), ('WARM', 'WARMER', 'GOOD', 'BETTER'), ('WARM', 'WARMER', 'HARD', 'HARDER'), ('WARM', 'WARMER', 'HEAVY', 'HEAVIER'), ('WARM', 'WARMER', 'HIGH', 'HIGHER'), ('WARM', 'WARMER', 'HOT', 'HOTTER'), ('WARM', 'WARMER', 'LARGE', 'LARGER'), ('WARM', 'WARMER', 'LOUD', 'LOUDER'), ('WARM', 'WARMER', 'LOW', 'LOWER'), ('WARM', 'WARMER', 'QUICK', 'QUICKER'), ('WARM', 'WARMER', 'SAFE', 'SAFER'), ('WARM', 'WARMER', 'SHARP', 'SHARPER'), ('WARM', 'WARMER', 'SHORT', 'SHORTER'), ('WARM', 'WARMER', 'SIMPLE', 'SIMPLER'), ('WARM', 'WARMER', 'SLOW', 'SLOWER'), ('WARM', 'WARMER', 'SMALL', 'SMALLER'), ('WARM', 'WARMER', 'SMART', 'SMARTER'), ('WARM', 'WARMER', 'STRONG', 'STRONGER'), ('WARM', 'WARMER', 'TALL', 'TALLER'), ('WARM', 'WARMER', 'TIGHT', 'TIGHTER'), ('WARM', 'WARMER', 'TOUGH', 'TOUGHER'), ('WEAK', 'WEAKER', 'WIDE', 'WIDER'), ('WEAK', 'WEAKER', 'YOUNG', 'YOUNGER'), ('WEAK', 'WEAKER', 'BAD', 'WORSE'), ('WEAK', 'WEAKER', 'BIG', 'BIGGER'), ('WEAK', 'WEAKER', 'BRIGHT', 'BRIGHTER'), ('WEAK', 'WEAKER', 'CHEAP', 'CHEAPER'), ('WEAK', 'WEAKER', 'COLD', 'COLDER'), ('WEAK', 'WEAKER', 'COOL', 'COOLER'), ('WEAK', 'WEAKER', 'DEEP', 'DEEPER'), ('WEAK', 'WEAKER', 'EASY', 'EASIER'), ('WEAK', 'WEAKER', 'FAST', 'FASTER'), ('WEAK', 'WEAKER', 'GOOD', 'BETTER'), ('WEAK', 'WEAKER', 'HARD', 'HARDER'), ('WEAK', 'WEAKER', 'HEAVY', 'HEAVIER'), ('WEAK', 'WEAKER', 'HIGH', 'HIGHER'), ('WEAK', 'WEAKER', 'HOT', 'HOTTER'), ('WEAK', 'WEAKER', 'LARGE', 'LARGER'), ('WEAK', 'WEAKER', 'LOUD', 'LOUDER'), ('WEAK', 'WEAKER', 'LOW', 'LOWER'), ('WEAK', 'WEAKER', 'QUICK', 'QUICKER'), ('WEAK', 'WEAKER', 'SAFE', 'SAFER'), ('WEAK', 'WEAKER', 'SHARP', 'SHARPER'), ('WEAK', 'WEAKER', 'SHORT', 'SHORTER'), ('WEAK', 'WEAKER', 'SIMPLE', 'SIMPLER'), ('WEAK', 'WEAKER', 'SLOW', 'SLOWER'), ('WEAK', 'WEAKER', 'SMALL', 'SMALLER'), ('WEAK', 'WEAKER', 'SMART', 'SMARTER'), ('WEAK', 'WEAKER', 'STRONG', 'STRONGER'), ('WEAK', 'WEAKER', 'TALL', 'TALLER'), ('WEAK', 'WEAKER', 'TIGHT', 'TIGHTER'), ('WEAK', 'WEAKER', 'TOUGH', 'TOUGHER'), ('WEAK', 'WEAKER', 'WARM', 'WARMER'), ('WIDE', 'WIDER', 'YOUNG', 'YOUNGER'), ('WIDE', 'WIDER', 'BAD', 'WORSE'), ('WIDE', 'WIDER', 'BIG', 'BIGGER'), ('WIDE', 'WIDER', 'BRIGHT', 'BRIGHTER'), ('WIDE', 'WIDER', 'CHEAP', 'CHEAPER'), ('WIDE', 'WIDER', 'COLD', 'COLDER'), ('WIDE', 'WIDER', 'COOL', 'COOLER'), ('WIDE', 'WIDER', 'DEEP', 'DEEPER'), ('WIDE', 'WIDER', 'EASY', 'EASIER'), ('WIDE', 'WIDER', 'FAST', 'FASTER'), ('WIDE', 'WIDER', 'GOOD', 'BETTER'), ('WIDE', 'WIDER', 'HARD', 'HARDER'), ('WIDE', 'WIDER', 'HEAVY', 'HEAVIER'), ('WIDE', 'WIDER', 'HIGH', 'HIGHER'), ('WIDE', 'WIDER', 'HOT', 'HOTTER'), ('WIDE', 'WIDER', 'LARGE', 'LARGER'), ('WIDE', 'WIDER', 'LONG', 'LONGER'), ('WIDE', 'WIDER', 'LOUD', 'LOUDER'), ('WIDE', 'WIDER', 'NEW', 'NEWER'), ('WIDE', 'WIDER', 'QUICK', 'QUICKER'), ('WIDE', 'WIDER', 'SAFE', 'SAFER'), ('WIDE', 'WIDER', 'SHARP', 'SHARPER'), ('WIDE', 'WIDER', 'SHORT', 'SHORTER'), ('WIDE', 'WIDER', 'SIMPLE', 'SIMPLER'), ('WIDE', 'WIDER', 'SLOW', 'SLOWER'), ('WIDE', 'WIDER', 'SMART', 'SMARTER'), ('WIDE', 'WIDER', 'STRONG', 'STRONGER'), ('WIDE', 'WIDER', 'TALL', 'TALLER'), ('WIDE', 'WIDER', 'TIGHT', 'TIGHTER'), ('WIDE', 'WIDER', 'TOUGH', 'TOUGHER'), ('WIDE', 'WIDER', 'WARM', 'WARMER'), ('WIDE', 'WIDER', 'WEAK', 'WEAKER'), ('YOUNG', 'YOUNGER', 'BAD', 'WORSE'), ('YOUNG', 'YOUNGER', 'BIG', 'BIGGER'), ('YOUNG', 'YOUNGER', 'BRIGHT', 'BRIGHTER'), ('YOUNG', 'YOUNGER', 'CHEAP', 'CHEAPER'), ('YOUNG', 'YOUNGER', 'COLD', 'COLDER'), ('YOUNG', 'YOUNGER', 'COOL', 'COOLER'), ('YOUNG', 'YOUNGER', 'DEEP', 'DEEPER'), ('YOUNG', 'YOUNGER', 'EASY', 'EASIER'), ('YOUNG', 'YOUNGER', 'FAST', 'FASTER'), ('YOUNG', 'YOUNGER', 'GOOD', 'BETTER'), ('YOUNG', 'YOUNGER', 'HARD', 'HARDER'), ('YOUNG', 'YOUNGER', 'HEAVY', 'HEAVIER'), ('YOUNG', 'YOUNGER', 'HIGH', 'HIGHER'), ('YOUNG', 'YOUNGER', 'HOT', 'HOTTER'), ('YOUNG', 'YOUNGER', 'LARGE', 'LARGER'), ('YOUNG', 'YOUNGER', 'LONG', 'LONGER'), ('YOUNG', 'YOUNGER', 'LOUD', 'LOUDER'), ('YOUNG', 'YOUNGER', 'LOW', 'LOWER'), ('YOUNG', 'YOUNGER', 'NEW', 'NEWER'), ('YOUNG', 'YOUNGER', 'OLD', 'OLDER'), ('YOUNG', 'YOUNGER', 'QUICK', 'QUICKER'), ('YOUNG', 'YOUNGER', 'SAFE', 'SAFER'), ('YOUNG', 'YOUNGER', 'SHARP', 'SHARPER'), ('YOUNG', 'YOUNGER', 'SHORT', 'SHORTER'), ('YOUNG', 'YOUNGER', 'SIMPLE', 'SIMPLER'), ('YOUNG', 'YOUNGER', 'SLOW', 'SLOWER'), ('YOUNG', 'YOUNGER', 'SMALL', 'SMALLER'), ('YOUNG', 'YOUNGER', 'SMART', 'SMARTER'), ('YOUNG', 'YOUNGER', 'STRONG', 'STRONGER'), ('YOUNG', 'YOUNGER', 'TALL', 'TALLER'), ('YOUNG', 'YOUNGER', 'TIGHT', 'TIGHTER'), ('YOUNG', 'YOUNGER', 'TOUGH', 'TOUGHER'), ('YOUNG', 'YOUNGER', 'WARM', 'WARMER'), ('YOUNG', 'YOUNGER', 'WEAK', 'WEAKER'), ('YOUNG', 'YOUNGER', 'WIDE', 'WIDER')]\n",
      "Incorrect words in gram3-comparative: [('BAD', 'WORSE', 'COOL', 'COOLER'), ('BAD', 'WORSE', 'NEW', 'NEWER'), ('BAD', 'WORSE', 'OLD', 'OLDER'), ('BAD', 'WORSE', 'SMALL', 'SMALLER'), ('BIG', 'BIGGER', 'GREAT', 'GREATER'), ('BIG', 'BIGGER', 'NEW', 'NEWER'), ('BIG', 'BIGGER', 'OLD', 'OLDER'), ('BIG', 'BIGGER', 'SMALL', 'SMALLER'), ('BRIGHT', 'BRIGHTER', 'GREAT', 'GREATER'), ('BRIGHT', 'BRIGHTER', 'NEW', 'NEWER'), ('BRIGHT', 'BRIGHTER', 'OLD', 'OLDER'), ('CHEAP', 'CHEAPER', 'GREAT', 'GREATER'), ('CHEAP', 'CHEAPER', 'LONG', 'LONGER'), ('CHEAP', 'CHEAPER', 'NEW', 'NEWER'), ('CHEAP', 'CHEAPER', 'OLD', 'OLDER'), ('COLD', 'COLDER', 'GREAT', 'GREATER'), ('COLD', 'COLDER', 'LONG', 'LONGER'), ('COLD', 'COLDER', 'OLD', 'OLDER'), ('COOL', 'COOLER', 'GREAT', 'GREATER'), ('COOL', 'COOLER', 'OLD', 'OLDER'), ('DEEP', 'DEEPER', 'GREAT', 'GREATER'), ('DEEP', 'DEEPER', 'LOW', 'LOWER'), ('DEEP', 'DEEPER', 'NEW', 'NEWER'), ('DEEP', 'DEEPER', 'OLD', 'OLDER'), ('DEEP', 'DEEPER', 'SMALL', 'SMALLER'), ('EASY', 'EASIER', 'GREAT', 'GREATER'), ('EASY', 'EASIER', 'LONG', 'LONGER'), ('EASY', 'EASIER', 'NEW', 'NEWER'), ('EASY', 'EASIER', 'OLD', 'OLDER'), ('FAST', 'FASTER', 'GREAT', 'GREATER'), ('GOOD', 'BETTER', 'NEW', 'NEWER'), ('GOOD', 'BETTER', 'OLD', 'OLDER'), ('GREAT', 'GREATER', 'NEW', 'NEWER'), ('GREAT', 'GREATER', 'OLD', 'OLDER'), ('GREAT', 'GREATER', 'QUICK', 'QUICKER'), ('GREAT', 'GREATER', 'SMALL', 'SMALLER'), ('HARD', 'HARDER', 'OLD', 'OLDER'), ('HARD', 'HARDER', 'GREAT', 'GREATER'), ('HEAVY', 'HEAVIER', 'LONG', 'LONGER'), ('HEAVY', 'HEAVIER', 'GREAT', 'GREATER'), ('HIGH', 'HIGHER', 'NEW', 'NEWER'), ('HIGH', 'HIGHER', 'OLD', 'OLDER'), ('HIGH', 'HIGHER', 'GREAT', 'GREATER'), ('HOT', 'HOTTER', 'OLD', 'OLDER'), ('HOT', 'HOTTER', 'GREAT', 'GREATER'), ('LARGE', 'LARGER', 'NEW', 'NEWER'), ('LARGE', 'LARGER', 'OLD', 'OLDER'), ('LARGE', 'LARGER', 'GREAT', 'GREATER'), ('LONG', 'LONGER', 'OLD', 'OLDER'), ('LONG', 'LONGER', 'GREAT', 'GREATER'), ('LOUD', 'LOUDER', 'NEW', 'NEWER'), ('LOUD', 'LOUDER', 'OLD', 'OLDER'), ('LOUD', 'LOUDER', 'SMALL', 'SMALLER'), ('LOUD', 'LOUDER', 'GREAT', 'GREATER'), ('LOW', 'LOWER', 'NEW', 'NEWER'), ('LOW', 'LOWER', 'OLD', 'OLDER'), ('LOW', 'LOWER', 'GREAT', 'GREATER'), ('NEW', 'NEWER', 'SIMPLE', 'SIMPLER'), ('NEW', 'NEWER', 'BAD', 'WORSE'), ('NEW', 'NEWER', 'GOOD', 'BETTER'), ('NEW', 'NEWER', 'GREAT', 'GREATER'), ('NEW', 'NEWER', 'HIGH', 'HIGHER'), ('NEW', 'NEWER', 'LARGE', 'LARGER'), ('NEW', 'NEWER', 'LOW', 'LOWER'), ('OLD', 'OLDER', 'SIMPLE', 'SIMPLER'), ('OLD', 'OLDER', 'BAD', 'WORSE'), ('OLD', 'OLDER', 'GREAT', 'GREATER'), ('QUICK', 'QUICKER', 'GREAT', 'GREATER'), ('SAFE', 'SAFER', 'GREAT', 'GREATER'), ('SAFE', 'SAFER', 'LONG', 'LONGER'), ('SAFE', 'SAFER', 'NEW', 'NEWER'), ('SAFE', 'SAFER', 'OLD', 'OLDER'), ('SHARP', 'SHARPER', 'GREAT', 'GREATER'), ('SHARP', 'SHARPER', 'NEW', 'NEWER'), ('SHARP', 'SHARPER', 'OLD', 'OLDER'), ('SHORT', 'SHORTER', 'BAD', 'WORSE'), ('SHORT', 'SHORTER', 'GREAT', 'GREATER'), ('SHORT', 'SHORTER', 'OLD', 'OLDER'), ('SIMPLE', 'SIMPLER', 'BAD', 'WORSE'), ('SIMPLE', 'SIMPLER', 'GREAT', 'GREATER'), ('SIMPLE', 'SIMPLER', 'LONG', 'LONGER'), ('SIMPLE', 'SIMPLER', 'NEW', 'NEWER'), ('SIMPLE', 'SIMPLER', 'OLD', 'OLDER'), ('SLOW', 'SLOWER', 'BAD', 'WORSE'), ('SLOW', 'SLOWER', 'GREAT', 'GREATER'), ('SLOW', 'SLOWER', 'OLD', 'OLDER'), ('SMALL', 'SMALLER', 'GREAT', 'GREATER'), ('SMALL', 'SMALLER', 'LONG', 'LONGER'), ('SMALL', 'SMALLER', 'OLD', 'OLDER'), ('SMART', 'SMARTER', 'GREAT', 'GREATER'), ('SMART', 'SMARTER', 'NEW', 'NEWER'), ('SMART', 'SMARTER', 'OLD', 'OLDER'), ('STRONG', 'STRONGER', 'GREAT', 'GREATER'), ('STRONG', 'STRONGER', 'NEW', 'NEWER'), ('STRONG', 'STRONGER', 'OLD', 'OLDER'), ('TALL', 'TALLER', 'GREAT', 'GREATER'), ('TALL', 'TALLER', 'OLD', 'OLDER'), ('TIGHT', 'TIGHTER', 'GREAT', 'GREATER'), ('TIGHT', 'TIGHTER', 'LOW', 'LOWER'), ('TIGHT', 'TIGHTER', 'NEW', 'NEWER'), ('TIGHT', 'TIGHTER', 'OLD', 'OLDER'), ('TOUGH', 'TOUGHER', 'NEW', 'NEWER'), ('TOUGH', 'TOUGHER', 'OLD', 'OLDER'), ('WARM', 'WARMER', 'GREAT', 'GREATER'), ('WARM', 'WARMER', 'LONG', 'LONGER'), ('WARM', 'WARMER', 'NEW', 'NEWER'), ('WARM', 'WARMER', 'OLD', 'OLDER'), ('WEAK', 'WEAKER', 'GREAT', 'GREATER'), ('WEAK', 'WEAKER', 'LONG', 'LONGER'), ('WEAK', 'WEAKER', 'NEW', 'NEWER'), ('WEAK', 'WEAKER', 'OLD', 'OLDER'), ('WIDE', 'WIDER', 'GREAT', 'GREATER'), ('WIDE', 'WIDER', 'LOW', 'LOWER'), ('WIDE', 'WIDER', 'OLD', 'OLDER'), ('WIDE', 'WIDER', 'SMALL', 'SMALLER'), ('YOUNG', 'YOUNGER', 'GREAT', 'GREATER')]\n"
     ]
    }
   ],
   "source": [
    "# Categories with the most similar accuracies is 'gram3-comparative'\n",
    "\n",
    "def print_words_from_section(section_name):\n",
    "    # Accessing the list of dictionaries\n",
    "    for section in analogy_scores[1]:\n",
    "        # Check if this dictionary is for the section we're interested in\n",
    "        if section[\"section\"] == section_name:\n",
    "            # Assuming you want to print both Correct and Incorrect words\n",
    "            print(f\"Correct words in {section_name}: {section['correct']}\")\n",
    "            print(f\"Incorrect words in {section_name}: {section['incorrect']}\")\n",
    "            break  # Break after finding and printing the section to avoid unnecessary iterations\n",
    "\n",
    "# Example usage\n",
    "print_words_from_section(\"gram3-comparative\")"
   ],
   "metadata": {
    "collapsed": false,
    "ExecuteTime": {
     "end_time": "2024-04-05T19:09:05.339393800Z",
     "start_time": "2024-04-05T19:09:05.262853300Z"
    }
   },
   "id": "36c0c284d3d4eb92",
   "execution_count": 29
  },
  {
   "cell_type": "code",
   "outputs": [
    {
     "data": {
      "text/plain": "'Comparative words seems to be more easier to compute distance so even if we have a less efficient model we can still have a good accuracy on this category'"
     },
     "execution_count": 30,
     "metadata": {},
     "output_type": "execute_result"
    }
   ],
   "source": [
    "\"Comparative words seems to be more easier to compute distance so even if we have a less efficient model we can still have a good accuracy on this category\""
   ],
   "metadata": {
    "collapsed": false,
    "ExecuteTime": {
     "end_time": "2024-04-05T19:09:05.340394900Z",
     "start_time": "2024-04-05T19:09:05.274392800Z"
    }
   },
   "id": "c192a62c123e35e0",
   "execution_count": 30
  },
  {
   "cell_type": "markdown",
   "id": "numeric-sunday",
   "metadata": {},
   "source": [
    "## 4. Compare the two models on your own analogy tasks\n",
    "In this section, you will evaluate the new model on the analogy tasks you defined in Section 2f.  You will then try to diagnose the performance by inspecting the word vectors.\n",
    "\n",
    "a. Reusing the code from above, what is the accuracy of the model trained on Text 8 on your analogy tasks from 2f?"
   ]
  },
  {
   "cell_type": "code",
   "execution_count": 31,
   "id": "functional-control",
   "metadata": {
    "ExecuteTime": {
     "end_time": "2024-04-05T19:09:05.432698600Z",
     "start_time": "2024-04-05T19:09:05.276390900Z"
    }
   },
   "outputs": [
    {
     "data": {
      "text/plain": "(0.0,\n [{'section': 'custom-knowledge',\n   'correct': [],\n   'incorrect': [('ITALY', 'PIZZA', 'JAPAN', 'SUSHI'),\n    ('AUSTRALIA', 'KANGAROO', 'EGYPT', 'PYRAMIDS'),\n    ('FRANCE', 'WINE', 'RUSSIA', 'BALLET'),\n    ('USA', 'HOLLYWOOD', 'UK', 'TEA'),\n    ('GERMANY', 'CARS', 'SWITZERLAND', 'CHOCOLATE'),\n    ('GREECE', 'PHILOSOPHY', 'TURKEY', 'BAZAAR')]},\n  {'section': 'Total accuracy',\n   'correct': [],\n   'incorrect': [('ITALY', 'PIZZA', 'JAPAN', 'SUSHI'),\n    ('AUSTRALIA', 'KANGAROO', 'EGYPT', 'PYRAMIDS'),\n    ('FRANCE', 'WINE', 'RUSSIA', 'BALLET'),\n    ('USA', 'HOLLYWOOD', 'UK', 'TEA'),\n    ('GERMANY', 'CARS', 'SWITZERLAND', 'CHOCOLATE'),\n    ('GREECE', 'PHILOSOPHY', 'TURKEY', 'BAZAAR')]}])"
     },
     "execution_count": 31,
     "metadata": {},
     "output_type": "execute_result"
    }
   ],
   "source": [
    "# Please write your Python code below and execute it.\n",
    "my_model_wv.evaluate_word_analogies('./questions-words-Ruben.txt')"
   ]
  },
  {
   "cell_type": "markdown",
   "id": "adverse-oxford",
   "metadata": {},
   "source": [
    "b. We are now going to visualize the word vectors for the words in your analogy task.  Store the list of words in a variable and check which ones are in the vocabulary; create a new variable with them."
   ]
  },
  {
   "cell_type": "code",
   "execution_count": 33,
   "id": "informative-learning",
   "metadata": {
    "ExecuteTime": {
     "end_time": "2024-04-05T19:14:31.118573500Z",
     "start_time": "2024-04-05T19:14:31.046042800Z"
    }
   },
   "outputs": [
    {
     "name": "stdout",
     "output_type": "stream",
     "text": [
      "Words in the Google vocabulary: ['Japan', 'Sushi', 'Brazil', 'Football', 'Canada', 'Australia', 'Kangaroo', 'Egypt', 'Pyramids', 'India', 'Bollywood', 'China', 'France', 'Wine', 'Russia', 'Ballet', 'USA', 'Hollywood', 'UK', 'Tea', 'Mexico', 'Mariachi', 'Spain', 'Flamenco', 'Germany', 'Cars', 'Switzerland', 'Chocolate', 'Greece', 'Philosophy', 'Turkey', 'Bazaar', 'Netherlands', 'Tulips']\n",
      "Words in the Text8 vocabulary: []\n"
     ]
    }
   ],
   "source": [
    "# Please write your Python code below and execute it.\n",
    "\n",
    "words = [\n",
    "    \"Italy\" \"Pizza\", \"Japan\", \"Sushi\", \"Brazil\", \"Football\", \"Canada\", \"Maple Syrup\",\n",
    "    \"Australia\", \"Kangaroo\", \"Egypt\", \"Pyramids\", \"India\", \"Bollywood\", \"China\", \"Great Wall\",\n",
    "    \"France\", \"Wine\", \"Russia\", \"Ballet\", \"USA\", \"Hollywood\", \"UK\" ,\"Tea\",\n",
    "    \"Mexico\", \"Mariachi\", \"Spain\", \"Flamenco\", \"Germany\", \"Cars\", \"Switzerland\", \"Chocolate\",\n",
    "    \"Greece\", \"Philosophy\", \"Turkey\", \"Bazaar\", \"Netherlands\", \"Tulips\", \"South Korea\", \"K-Pop\"\n",
    "]\n",
    "\n",
    "words_in_vocab_google = [word for word in words if word in wv_model.key_to_index]\n",
    "\n",
    "words_in_vocab_text8 = [word for word in words if word in my_model_wv.key_to_index]\n",
    "\n",
    "print(f\"Words in the Google vocabulary: {words_in_vocab_google}\")\n",
    "\n",
    "print(f\"Words in the Text8 vocabulary: {words_in_vocab_text8}\")\n",
    "\n",
    "#Voir lesquels sont dans le vocabulary du model text8"
   ]
  },
  {
   "cell_type": "code",
   "outputs": [
    {
     "data": {
      "text/plain": "\"No words find in the text8 model, so we'll only use the google model for the next steps.\""
     },
     "execution_count": 34,
     "metadata": {},
     "output_type": "execute_result"
    }
   ],
   "source": [
    "\"No words find in the text8 model, so we'll only use the google model for the next steps.\""
   ],
   "metadata": {
    "collapsed": false,
    "ExecuteTime": {
     "end_time": "2024-04-05T19:14:36.371164Z",
     "start_time": "2024-04-05T19:14:36.189073200Z"
    }
   },
   "id": "6d2dc3cae3cd0bf0",
   "execution_count": 34
  },
  {
   "cell_type": "markdown",
   "id": "activated-marine",
   "metadata": {},
   "source": [
    "c. The function below will help you plot a 2D representation of the word vectors using [PCA from scikit.learn](https://scikit-learn.org/stable/modules/generated/sklearn.decomposition.PCA.html).  (It is also possible to use [UMAP](https://umap-learn.readthedocs.io/en/latest/basic_usage.html) instead of PCA in display_scatterplot).  Please display the word vectors for your model trained on Text8, and then for the model trained on Google News.  Please comment on the differences. "
   ]
  },
  {
   "cell_type": "code",
   "execution_count": 35,
   "id": "demographic-rabbit",
   "metadata": {
    "ExecuteTime": {
     "end_time": "2024-04-05T19:14:43.020177900Z",
     "start_time": "2024-04-05T19:14:38.731481100Z"
    }
   },
   "outputs": [],
   "source": [
    "from sklearn.decomposition import PCA\n",
    "import matplotlib.pyplot as plt\n",
    "%matplotlib inline"
   ]
  },
  {
   "cell_type": "code",
   "execution_count": 36,
   "id": "starting-catholic",
   "metadata": {
    "ExecuteTime": {
     "end_time": "2024-04-05T19:14:45.606640400Z",
     "start_time": "2024-04-05T19:14:45.582551100Z"
    }
   },
   "outputs": [],
   "source": [
    "def display_scatterplot(model, words): # assumes all words are in the vocabulary\n",
    "    word_vectors = [model[word] for word in words]\n",
    "    twodim = PCA().fit_transform(word_vectors)[:,:2]\n",
    "    plt.figure(figsize=(6,6))\n",
    "    plt.scatter(twodim[:,0], twodim[:,1], edgecolors='k', c='r')\n",
    "    for word, (x,y) in zip(words, twodim):\n",
    "        plt.text(x + 0.03, y + 0.03, word)"
   ]
  },
  {
   "cell_type": "code",
   "execution_count": 40,
   "id": "innovative-portal",
   "metadata": {
    "ExecuteTime": {
     "end_time": "2024-04-05T19:15:21.101046100Z",
     "start_time": "2024-04-05T19:15:20.880130700Z"
    }
   },
   "outputs": [
    {
     "data": {
      "text/plain": "<Figure size 600x600 with 1 Axes>",
      "image/png": "[encoded data removed]"
     },
     "metadata": {},
     "output_type": "display_data"
    }
   ],
   "source": [
    "# Please write your Python code below and execute it.\n",
    "\n",
    "# Google News Model\n",
    "display_scatterplot(wv_model, words_in_vocab_google)"
   ]
  },
  {
   "cell_type": "code",
   "execution_count": 41,
   "id": "unlikely-jackson",
   "metadata": {
    "ExecuteTime": {
     "end_time": "2024-04-05T19:15:32.785386700Z",
     "start_time": "2024-04-05T19:15:32.774948800Z"
    }
   },
   "outputs": [
    {
     "data": {
      "text/plain": "\"Can't work because no words are in the vocabulary of the text8 model\""
     },
     "execution_count": 41,
     "metadata": {},
     "output_type": "execute_result"
    }
   ],
   "source": [
    "# Please write your Python code below and execute it.\n",
    "# Text8 Model\n",
    "# display_scatterplot(my_model_wv, words_in_vocab_text8)\n",
    "\n",
    "\"Can't work because no words are in the vocabulary of the text8 model\""
   ]
  },
  {
   "cell_type": "markdown",
   "id": "pharmaceutical-lyric",
   "metadata": {},
   "source": [
    "## End of Lab 6\n",
    "Please make sure all cells have been executed, save this completed notebook, compress it to a *zip* file, and upload it to [Moodle](https://moodle.msengineering.ch/course/view.php?id=1869)."
   ]
  }
 ],
 "metadata": {
  "kernelspec": {
   "display_name": "Python 3",
   "language": "python",
   "name": "python3"
  },
  "language_info": {
   "codemirror_mode": {
    "name": "ipython",
    "version": 3
   },
   "file_extension": ".py",
   "mimetype": "text/x-python",
   "name": "python",
   "nbconvert_exporter": "python",
   "pygments_lexer": "ipython3",
   "version": "3.8.5"
  }
 },
 "nbformat": 4,
 "nbformat_minor": 5
}
